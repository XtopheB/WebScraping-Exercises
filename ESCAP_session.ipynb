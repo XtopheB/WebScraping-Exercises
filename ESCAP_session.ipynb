{
  "cells": [
    {
      "cell_type": "markdown",
      "metadata": {
        "id": "eRXsPRZlRXcX"
      },
      "source": [
        "# Smartdoko"
      ]
    },
    {
      "cell_type": "code",
      "execution_count": 1,
      "metadata": {
        "id": "8n5K-YnoK2zO"
      },
      "outputs": [],
      "source": [
        "import time\n",
        "import random\n",
        "import json\n",
        "from bs4 import BeautifulSoup\n",
        "import requests\n",
        "import pandas as pd"
      ]
    },
    {
      "cell_type": "code",
      "execution_count": 2,
      "metadata": {
        "id": "55RbjQwyK5c0"
      },
      "outputs": [],
      "source": [
        "heads = {\n",
        "    #'User-Agent':'Mozilla/5.0 (Windows NT 10.0; Win64; x64) AppleWebKit/537.36 (KHTML, like Gecko) Chrome/90.0.4430.212 Safari/537.36',\n",
        "    'User-Agent':'ESCAP Webscraping Capacity Building 1.0',\n",
        "    'email': 'luigi.palumbo@unitus.it',\n",
        "    'Accept-Language': 'en-US, en;q=0.5'}\n",
        "\n",
        "s = requests.Session()"
      ]
    },
    {
      "cell_type": "code",
      "execution_count": 4,
      "metadata": {
        "id": "30tEesjELNsb"
      },
      "outputs": [],
      "source": [
        "shop_url = \"https://smartdoko.com/\""
      ]
    },
    {
      "cell_type": "code",
      "execution_count": 5,
      "metadata": {
        "id": "HTUnIL-YLRsr"
      },
      "outputs": [],
      "source": [
        "# Get homepage\n",
        "with s.get(shop_url, headers=heads) as res:\n",
        "    response = BeautifulSoup(res.text, \"html.parser\")"
      ]
    },
    {
      "cell_type": "code",
      "execution_count": 6,
      "metadata": {
        "id": "yHouApWSLWKw"
      },
      "outputs": [],
      "source": [
        "categories = [\n",
        "    item.find(\"a\").get(\"href\")\n",
        "    for item in\n",
        "    response.find(\"div\", {\"class\": \"menu-container\"}).find_all(\"div\", {\"class\":\"col-3\"})\n",
        "]\n",
        "\n"
      ]
    },
    {
      "cell_type": "code",
      "execution_count": 7,
      "metadata": {
        "id": "UQhPIb1iO3Bn"
      },
      "outputs": [],
      "source": [
        "api_url = \"https://smartdoko.com/api/products/filtered?filters=true&category={}&page={}\""
      ]
    },
    {
      "cell_type": "code",
      "execution_count": 8,
      "metadata": {
        "id": "K63ClzdBL65o"
      },
      "outputs": [],
      "source": [
        "category_filter = [\n",
        "    cat.rsplit(\"/\", 1)[-1]\n",
        "    for cat in categories\n",
        "]"
      ]
    },
    {
      "cell_type": "code",
      "execution_count": 9,
      "metadata": {
        "colab": {
          "base_uri": "https://localhost:8080/"
        },
        "id": "m3iRvqz6MHIi",
        "outputId": "8d0246c1-a139-4bd4-de64-61257e4187bb"
      },
      "outputs": [
        {
          "data": {
            "text/plain": [
              "91"
            ]
          },
          "execution_count": 9,
          "metadata": {},
          "output_type": "execute_result"
        }
      ],
      "source": [
        "len(category_filter)"
      ]
    },
    {
      "cell_type": "code",
      "execution_count": 10,
      "metadata": {
        "id": "2BRhMBAcPVvP"
      },
      "outputs": [],
      "source": [
        "# Get one category\n",
        "with s.get(api_url.format(category_filter[10], 1), headers=heads) as res:\n",
        "    response = json.loads(res.text)"
      ]
    },
    {
      "cell_type": "code",
      "execution_count": 11,
      "metadata": {
        "colab": {
          "base_uri": "https://localhost:8080/"
        },
        "id": "9b2Xh4BWPwEg",
        "outputId": "1819c696-fb6d-46ed-be6e-3e9c90171bc4"
      },
      "outputs": [
        {
          "data": {
            "text/plain": [
              "{'id': 59706,\n",
              " 'name': 'Black+Decker 4 Ltr. Digital Humidifier HM4250-B5',\n",
              " 'slug': 'blackdecker-4-ltr-digital-humidifier-hm4250-b5',\n",
              " 'description': '<ul>\\r\\n\\t<li><strong>110W Power for Covering Room Area up to 40m.sq</strong></li>\\r\\n\\t<li><strong>Touch Control for Operating Mode Selection &amp; LED Display&nbsp;<strong>for Easy Reading of Preferred Setting</strong></strong></li>\\r\\n\\t<li><strong>High-Performance Ultrasonic System for Generating Mist&nbsp;O<strong>utput of 180-350ml/h</strong></strong></li>\\r\\n\\t<li><strong>Top Fill Humidifier Design for Directly Pouring Aroma</strong></li>\\r\\n\\t<li><strong>2 Levels of Mist Control for Comfortable Room Experience</strong></li>\\r\\n\\t<li><strong>1-12 Hours Timer for Selecting Optimum Operation Time</strong></li>\\r\\n\\t<li><strong>4.0L Built-in Tank for Delivering Continuous Mist Output of 8&nbsp;<strong>to 14 Hours</strong></strong></li>\\r\\n\\t<li><strong>Warm Mist for Steam Sterilization</strong></li>\\r\\n\\t<li><strong>Auto Shut-off with Indicator Light</strong></li>\\r\\n\\t<li><strong>Air Filter to Remove Impurities for Clean &amp; Pure Mist</strong></li>\\r\\n\\t<li><strong>Maximum Water Level Window To Prevent Tank Overflow</strong></li>\\r\\n\\t<li><strong>Detachable Power Cord for Convenient Storage</strong></li>\\r\\n\\t<li><strong>2 Years Warranty<br />\\r\\n\\t[ Excluding Plastic Parts ]</strong></li>\\r\\n</ul>',\n",
              " 'thumbnail': 'https://smartdoko.com/storage/products/thumb/1703497004_7316.jpg',\n",
              " 'image': {'full': 'https://smartdoko.com/storage/products/resized/1703497004_7316.jpg',\n",
              "  'thumb': 'https://smartdoko.com/storage/products/thumb/1703497004_7316.jpg'},\n",
              " 'images': [],\n",
              " 'in_stock': 4,\n",
              " 'quantity': 5,\n",
              " 'sku': 5563,\n",
              " 'amount': 10780,\n",
              " 'discount': 12,\n",
              " 'price': 12250,\n",
              " 'sale_price': 10780,\n",
              " 'sale_price_percent': 12,\n",
              " 'status': 1,\n",
              " 'is_exclusive': 0,\n",
              " 'length': 0,\n",
              " 'width': 0,\n",
              " 'height': 0,\n",
              " 'distance_unit': None,\n",
              " 'weight': 2,\n",
              " 'mass_unit': 'Kilogram',\n",
              " 'attributes': [],\n",
              " 'rating': 0,\n",
              " 'points': 107.8,\n",
              " 'inWishList': False,\n",
              " 'specifications': [],\n",
              " 'compare': 1,\n",
              " 'redeem': 21560,\n",
              " 'reward': None,\n",
              " 'shareLink': 'https://smartdoko.com/product/blackdecker-4-ltr-digital-humidifier-hm4250-b5',\n",
              " 'video_url': None,\n",
              " 'category': {'id': 1187, 'name': 'Humidifiers', 'status': True},\n",
              " 'brand': {'id': 1473, 'name': 'Black+Decker'}}"
            ]
          },
          "execution_count": 11,
          "metadata": {},
          "output_type": "execute_result"
        }
      ],
      "source": [
        "response.get(\"data\")[0]"
      ]
    },
    {
      "cell_type": "code",
      "execution_count": 12,
      "metadata": {
        "colab": {
          "base_uri": "https://localhost:8080/"
        },
        "id": "wiWhBrrePyTP",
        "outputId": "c4f94a4f-75a3-4004-8143-5ff4af3859df"
      },
      "outputs": [
        {
          "data": {
            "text/plain": [
              "{'current_page': 1,\n",
              " 'from': 1,\n",
              " 'last_page': 3,\n",
              " 'path': 'https://smartdoko.com/api/products/filtered',\n",
              " 'per_page': 16,\n",
              " 'to': 16,\n",
              " 'total': 40}"
            ]
          },
          "execution_count": 12,
          "metadata": {},
          "output_type": "execute_result"
        }
      ],
      "source": [
        "response.get(\"meta\")"
      ]
    },
    {
      "cell_type": "code",
      "execution_count": 21,
      "metadata": {
        "id": "wujXZ2zxRN_c"
      },
      "outputs": [],
      "source": [
        "def call_smartdoko_api(category, s, heads, page=1):\n",
        "    \"\"\"\n",
        "    Call Smartdoko API to recover data\n",
        "    \"\"\"\n",
        "    api_url = \"https://smartdoko.com/api/products/filtered?filters=true&category={}&page={}\"\n",
        "    time.sleep(random.randint(7, 15)/10)\n",
        "    with s.get(api_url.format(category, page), headers=heads) as res:\n",
        "        response = json.loads(res.text)\n",
        "    n_pages = response.get(\"meta\").get(\"last_page\")\n",
        "    products = [\n",
        "        {\n",
        "            \"name\": item.get(\"name\"),\n",
        "            \"price\": item.get(\"price\"),\n",
        "            \"sale_price\": item.get(\"sale_price\"),\n",
        "            \"stock\": item.get(\"in_stock\"),\n",
        "            \"weight\": item.get(\"weight\"),\n",
        "            \"unit\": item.get(\"mass_unit\"),\n",
        "            \"category\": item.get(\"category\", {}).get(\"name\"),\n",
        "            \"brand\": item.get(\"brand\", {}).get(\"name\"),\n",
        "            \"url\": item.get(\"shareLink\")\n",
        "        }\n",
        "        for item in\n",
        "        response.get(\"data\")\n",
        "    ]\n",
        "    if n_pages > page:\n",
        "        new_products = call_smartdoko_api(category, s, heads, page+1)\n",
        "        products.extend(new_products)\n",
        "    return products"
      ]
    },
    {
      "cell_type": "code",
      "execution_count": 22,
      "metadata": {
        "id": "osFGdMkqTf2P"
      },
      "outputs": [],
      "source": [
        "products = call_smartdoko_api(category_filter[10], s, heads, page=1)"
      ]
    },
    {
      "cell_type": "code",
      "execution_count": 23,
      "metadata": {
        "colab": {
          "base_uri": "https://localhost:8080/"
        },
        "id": "T1tJbyD2Ttq6",
        "outputId": "94217705-9862-43be-e6f3-cc66cddf06f8"
      },
      "outputs": [
        {
          "data": {
            "text/plain": [
              "40"
            ]
          },
          "execution_count": 23,
          "metadata": {},
          "output_type": "execute_result"
        }
      ],
      "source": [
        "len(products)"
      ]
    },
    {
      "cell_type": "code",
      "execution_count": 24,
      "metadata": {
        "colab": {
          "base_uri": "https://localhost:8080/"
        },
        "id": "gYr8503iTwfa",
        "outputId": "b33ce829-71f1-4015-8d47-0fcd7ef2dedd"
      },
      "outputs": [
        {
          "data": {
            "text/plain": [
              "{'name': 'Lucky Cup Humidifier(K5-11)',\n",
              " 'price': 1800,\n",
              " 'sale_price': 0,\n",
              " 'stock': 101,\n",
              " 'weight': 0.22,\n",
              " 'unit': 'Kilogram',\n",
              " 'category': 'Humidifiers',\n",
              " 'brand': 'Khumbaya Decor',\n",
              " 'url': 'https://smartdoko.com/product/lucky-cup-humidifier'}"
            ]
          },
          "execution_count": 24,
          "metadata": {},
          "output_type": "execute_result"
        }
      ],
      "source": [
        "products[11]"
      ]
    },
    {
      "cell_type": "markdown",
      "metadata": {
        "id": "2RJ_zRS2XTbT"
      },
      "source": [
        "# Uzum"
      ]
    },
    {
      "cell_type": "code",
      "execution_count": 25,
      "metadata": {
        "id": "XT5a_wH8T436"
      },
      "outputs": [],
      "source": [
        "shop_url = \"https://uzum.uz/uz\""
      ]
    },
    {
      "cell_type": "code",
      "execution_count": 26,
      "metadata": {
        "id": "0EEoEY2eXaRN"
      },
      "outputs": [],
      "source": [
        "# Get homepage\n",
        "with s.get(shop_url, headers=heads) as res:\n",
        "    response = BeautifulSoup(res.text, \"html.parser\")"
      ]
    },
    {
      "cell_type": "code",
      "execution_count": 27,
      "metadata": {
        "id": "dgkPfJ_KfTQ3"
      },
      "outputs": [],
      "source": [
        "response.find(\"div\", {\"class\": \"main-categories\"})"
      ]
    },
    {
      "cell_type": "code",
      "execution_count": 28,
      "metadata": {
        "colab": {
          "base_uri": "https://localhost:8080/"
        },
        "id": "n42i2Zxofc-G",
        "outputId": "59333d32-a7cf-4dcd-bba4-d0a802bfd2d8"
      },
      "outputs": [
        {
          "data": {
            "text/plain": [
              "<!DOCTYPE html>\n",
              "<html lang=\"en-US\"><head><title>Just a moment...</title><meta content=\"text/html; charset=utf-8\" http-equiv=\"Content-Type\"/><meta content=\"IE=Edge\" http-equiv=\"X-UA-Compatible\"/><meta content=\"noindex,nofollow\" name=\"robots\"/><meta content=\"width=device-width,initial-scale=1\" name=\"viewport\"/><style>*{box-sizing:border-box;margin:0;padding:0}html{line-height:1.15;-webkit-text-size-adjust:100%;color:#313131}button,html{font-family:system-ui,-apple-system,BlinkMacSystemFont,Segoe UI,Roboto,Helvetica Neue,Arial,Noto Sans,sans-serif,Apple Color Emoji,Segoe UI Emoji,Segoe UI Symbol,Noto Color Emoji}@media (prefers-color-scheme:dark){body{background-color:#222;color:#d9d9d9}body a{color:#fff}body a:hover{color:#ee730a;text-decoration:underline}body .lds-ring div{border-color:#999 transparent transparent}body .font-red{color:#b20f03}body .pow-button{background-color:#4693ff;color:#1d1d1d}body #challenge-success-text{background-image:url(data:image/svg+xml;base64,PHN2ZyB4bWxucz0iaHR0cDovL3d3dy53My5vcmcvMjAwMC9zdmciIHdpZHRoPSIzMiIgaGVpZ2h0PSIzMiIgZmlsbD0ibm9uZSIgdmlld0JveD0iMCAwIDI2IDI2Ij48cGF0aCBmaWxsPSIjZDlkOWQ5IiBkPSJNMTMgMGExMyAxMyAwIDEgMCAwIDI2IDEzIDEzIDAgMCAwIDAtMjZtMCAyNGExMSAxMSAwIDEgMSAwLTIyIDExIDExIDAgMCAxIDAgMjIiLz48cGF0aCBmaWxsPSIjZDlkOWQ5IiBkPSJtMTAuOTU1IDE2LjA1NS0zLjk1LTQuMTI1LTEuNDQ1IDEuMzg1IDUuMzcgNS42MSA5LjQ5NS05LjYtMS40Mi0xLjQwNXoiLz48L3N2Zz4=)}body #challenge-error-text{background-image:url(data:image/svg+xml;base64,PHN2ZyB4bWxucz0iaHR0cDovL3d3dy53My5vcmcvMjAwMC9zdmciIHdpZHRoPSIzMiIgaGVpZ2h0PSIzMiIgZmlsbD0ibm9uZSI+PHBhdGggZmlsbD0iI0IyMEYwMyIgZD0iTTE2IDNhMTMgMTMgMCAxIDAgMTMgMTNBMTMuMDE1IDEzLjAxNSAwIDAgMCAxNiAzbTAgMjRhMTEgMTEgMCAxIDEgMTEtMTEgMTEuMDEgMTEuMDEgMCAwIDEtMTEgMTEiLz48cGF0aCBmaWxsPSIjQjIwRjAzIiBkPSJNMTcuMDM4IDE4LjYxNUgxNC44N0wxNC41NjMgOS41aDIuNzgzem0tMS4wODQgMS40MjdxLjY2IDAgMS4wNTcuMzg4LjQwNy4zODkuNDA3Ljk5NCAwIC41OTYtLjQwNy45ODQtLjM5Ny4zOS0xLjA1Ny4zODktLjY1IDAtMS4wNTYtLjM4OS0uMzk4LS4zODktLjM5OC0uOTg0IDAtLjU5Ny4zOTgtLjk4NS40MDYtLjM5NyAxLjA1Ni0uMzk3Ii8+PC9zdmc+)}}body{display:flex;flex-direction:column;min-height:100vh}body.no-js .loading-spinner{visibility:hidden}body.no-js .challenge-running{display:none}body.dark{background-color:#222;color:#d9d9d9}body.dark a{color:#fff}body.dark a:hover{color:#ee730a;text-decoration:underline}body.dark .lds-ring div{border-color:#999 transparent transparent}body.dark .font-red{color:#b20f03}body.dark .pow-button{background-color:#4693ff;color:#1d1d1d}body.dark #challenge-success-text{background-image:url(data:image/svg+xml;base64,PHN2ZyB4bWxucz0iaHR0cDovL3d3dy53My5vcmcvMjAwMC9zdmciIHdpZHRoPSIzMiIgaGVpZ2h0PSIzMiIgZmlsbD0ibm9uZSIgdmlld0JveD0iMCAwIDI2IDI2Ij48cGF0aCBmaWxsPSIjZDlkOWQ5IiBkPSJNMTMgMGExMyAxMyAwIDEgMCAwIDI2IDEzIDEzIDAgMCAwIDAtMjZtMCAyNGExMSAxMSAwIDEgMSAwLTIyIDExIDExIDAgMCAxIDAgMjIiLz48cGF0aCBmaWxsPSIjZDlkOWQ5IiBkPSJtMTAuOTU1IDE2LjA1NS0zLjk1LTQuMTI1LTEuNDQ1IDEuMzg1IDUuMzcgNS42MSA5LjQ5NS05LjYtMS40Mi0xLjQwNXoiLz48L3N2Zz4=)}body.dark #challenge-error-text{background-image:url(data:image/svg+xml;base64,PHN2ZyB4bWxucz0iaHR0cDovL3d3dy53My5vcmcvMjAwMC9zdmciIHdpZHRoPSIzMiIgaGVpZ2h0PSIzMiIgZmlsbD0ibm9uZSI+PHBhdGggZmlsbD0iI0IyMEYwMyIgZD0iTTE2IDNhMTMgMTMgMCAxIDAgMTMgMTNBMTMuMDE1IDEzLjAxNSAwIDAgMCAxNiAzbTAgMjRhMTEgMTEgMCAxIDEgMTEtMTEgMTEuMDEgMTEuMDEgMCAwIDEtMTEgMTEiLz48cGF0aCBmaWxsPSIjQjIwRjAzIiBkPSJNMTcuMDM4IDE4LjYxNUgxNC44N0wxNC41NjMgOS41aDIuNzgzem0tMS4wODQgMS40MjdxLjY2IDAgMS4wNTcuMzg4LjQwNy4zODkuNDA3Ljk5NCAwIC41OTYtLjQwNy45ODQtLjM5Ny4zOS0xLjA1Ny4zODktLjY1IDAtMS4wNTYtLjM4OS0uMzk4LS4zODktLjM5OC0uOTg0IDAtLjU5Ny4zOTgtLjk4NS40MDYtLjM5NyAxLjA1Ni0uMzk3Ii8+PC9zdmc+)}body.light{background-color:transparent;color:#313131}body.light a{color:#0051c3}body.light a:hover{color:#ee730a;text-decoration:underline}body.light .lds-ring div{border-color:#595959 transparent transparent}body.light .font-red{color:#fc574a}body.light .pow-button{background-color:#003681;border-color:#003681;color:#fff}body.light #challenge-success-text{background-image:url(data:image/svg+xml;base64,PHN2ZyB4bWxucz0iaHR0cDovL3d3dy53My5vcmcvMjAwMC9zdmciIHdpZHRoPSIzMiIgaGVpZ2h0PSIzMiIgZmlsbD0ibm9uZSIgdmlld0JveD0iMCAwIDI2IDI2Ij48cGF0aCBmaWxsPSIjMzEzMTMxIiBkPSJNMTMgMGExMyAxMyAwIDEgMCAwIDI2IDEzIDEzIDAgMCAwIDAtMjZtMCAyNGExMSAxMSAwIDEgMSAwLTIyIDExIDExIDAgMCAxIDAgMjIiLz48cGF0aCBmaWxsPSIjMzEzMTMxIiBkPSJtMTAuOTU1IDE2LjA1NS0zLjk1LTQuMTI1LTEuNDQ1IDEuMzg1IDUuMzcgNS42MSA5LjQ5NS05LjYtMS40Mi0xLjQwNXoiLz48L3N2Zz4=)}body.light #challenge-error-text{background-image:url(data:image/svg+xml;base64,PHN2ZyB4bWxucz0iaHR0cDovL3d3dy53My5vcmcvMjAwMC9zdmciIHdpZHRoPSIzMiIgaGVpZ2h0PSIzMiIgZmlsbD0ibm9uZSI+PHBhdGggZmlsbD0iI2ZjNTc0YSIgZD0iTTE2IDNhMTMgMTMgMCAxIDAgMTMgMTNBMTMuMDE1IDEzLjAxNSAwIDAgMCAxNiAzbTAgMjRhMTEgMTEgMCAxIDEgMTEtMTEgMTEuMDEgMTEuMDEgMCAwIDEtMTEgMTEiLz48cGF0aCBmaWxsPSIjZmM1NzRhIiBkPSJNMTcuMDM4IDE4LjYxNUgxNC44N0wxNC41NjMgOS41aDIuNzgzem0tMS4wODQgMS40MjdxLjY2IDAgMS4wNTcuMzg4LjQwNy4zODkuNDA3Ljk5NCAwIC41OTYtLjQwNy45ODQtLjM5Ny4zOS0xLjA1Ny4zODktLjY1IDAtMS4wNTYtLjM4OS0uMzk4LS4zODktLjM5OC0uOTg0IDAtLjU5Ny4zOTgtLjk4NS40MDYtLjM5NyAxLjA1Ni0uMzk3Ii8+PC9zdmc+)}a{background-color:transparent;color:#0051c3;text-decoration:none;transition:color .15s ease}a:hover{color:#ee730a;text-decoration:underline}.main-content{margin:8rem auto;max-width:60rem;width:100%}.heading-favicon{height:2rem;margin-right:.5rem;width:2rem}@media (width <= 720px){.main-content{margin-top:4rem}.heading-favicon{height:1.5rem;width:1.5rem}}.footer,.main-content{padding-left:1.5rem;padding-right:1.5rem}.main-wrapper{align-items:center;display:flex;flex:1;flex-direction:column}.font-red{color:#b20f03}.spacer{margin:2rem 0}.h1{font-size:2.5rem;font-weight:500;line-height:3.75rem}.h2{font-weight:500}.core-msg,.h2{font-size:1.5rem;line-height:2.25rem}.body-text,.core-msg{font-weight:400}.body-text{font-size:1rem;line-height:1.25rem}@media (width <= 720px){.h1{font-size:1.5rem;line-height:1.75rem}.h2{font-size:1.25rem}.core-msg,.h2{line-height:1.5rem}.core-msg{font-size:1rem}}#challenge-error-text{background-image:url(data:image/svg+xml;base64,PHN2ZyB4bWxucz0iaHR0cDovL3d3dy53My5vcmcvMjAwMC9zdmciIHdpZHRoPSIzMiIgaGVpZ2h0PSIzMiIgZmlsbD0ibm9uZSI+PHBhdGggZmlsbD0iI2ZjNTc0YSIgZD0iTTE2IDNhMTMgMTMgMCAxIDAgMTMgMTNBMTMuMDE1IDEzLjAxNSAwIDAgMCAxNiAzbTAgMjRhMTEgMTEgMCAxIDEgMTEtMTEgMTEuMDEgMTEuMDEgMCAwIDEtMTEgMTEiLz48cGF0aCBmaWxsPSIjZmM1NzRhIiBkPSJNMTcuMDM4IDE4LjYxNUgxNC44N0wxNC41NjMgOS41aDIuNzgzem0tMS4wODQgMS40MjdxLjY2IDAgMS4wNTcuMzg4LjQwNy4zODkuNDA3Ljk5NCAwIC41OTYtLjQwNy45ODQtLjM5Ny4zOS0xLjA1Ny4zODktLjY1IDAtMS4wNTYtLjM4OS0uMzk4LS4zODktLjM5OC0uOTg0IDAtLjU5Ny4zOTgtLjk4NS40MDYtLjM5NyAxLjA1Ni0uMzk3Ii8+PC9zdmc+);padding-left:34px}#challenge-error-text,#challenge-success-text{background-repeat:no-repeat;background-size:contain}#challenge-success-text{background-image:url(data:image/svg+xml;base64,PHN2ZyB4bWxucz0iaHR0cDovL3d3dy53My5vcmcvMjAwMC9zdmciIHdpZHRoPSIzMiIgaGVpZ2h0PSIzMiIgZmlsbD0ibm9uZSIgdmlld0JveD0iMCAwIDI2IDI2Ij48cGF0aCBmaWxsPSIjMzEzMTMxIiBkPSJNMTMgMGExMyAxMyAwIDEgMCAwIDI2IDEzIDEzIDAgMCAwIDAtMjZtMCAyNGExMSAxMSAwIDEgMSAwLTIyIDExIDExIDAgMCAxIDAgMjIiLz48cGF0aCBmaWxsPSIjMzEzMTMxIiBkPSJtMTAuOTU1IDE2LjA1NS0zLjk1LTQuMTI1LTEuNDQ1IDEuMzg1IDUuMzcgNS42MSA5LjQ5NS05LjYtMS40Mi0xLjQwNXoiLz48L3N2Zz4=);padding-left:42px}.text-center{text-align:center}.pow-button{background-color:#0051c3;border:.063rem solid #0051c3;border-radius:.313rem;color:#fff;font-size:.875rem;line-height:1.313rem;margin:2rem 0;padding:.375rem 1rem;transition-duration:.2s;transition-property:background-color,border-color,color;transition-timing-function:ease}.pow-button:hover{background-color:#003681;border-color:#003681;color:#fff;cursor:pointer}.footer{font-size:.75rem;line-height:1.125rem;margin:0 auto;max-width:60rem;width:100%}.footer-inner{border-top:1px solid #d9d9d9;padding-bottom:1rem;padding-top:1rem}.clearfix:after{clear:both;content:\"\";display:table}.clearfix .column{float:left;padding-right:1.5rem;width:50%}.diagnostic-wrapper{margin-bottom:.5rem}.footer .ray-id{text-align:center}.footer .ray-id code{font-family:monaco,courier,monospace}.core-msg,.zone-name-title{overflow-wrap:break-word}@media (width <= 720px){.diagnostic-wrapper{display:flex;flex-wrap:wrap;justify-content:center}.clearfix:after{clear:none;content:none;display:initial;text-align:center}.column{padding-bottom:2rem}.clearfix .column{float:none;padding:0;width:auto;word-break:keep-all}.zone-name-title{margin-bottom:1rem}}.loading-spinner{height:76.391px}.lds-ring{display:inline-block;position:relative}.lds-ring,.lds-ring div{height:1.875rem;width:1.875rem}.lds-ring div{animation:lds-ring 1.2s cubic-bezier(.5,0,.5,1) infinite;border:.3rem solid transparent;border-radius:50%;border-top-color:#313131;box-sizing:border-box;display:block;position:absolute}.lds-ring div:first-child{animation-delay:-.45s}.lds-ring div:nth-child(2){animation-delay:-.3s}.lds-ring div:nth-child(3){animation-delay:-.15s}@keyframes lds-ring{0%{transform:rotate(0)}to{transform:rotate(1turn)}}@media screen and (-ms-high-contrast:active),screen and (-ms-high-contrast:none){.main-wrapper,body{display:block}}.rtl .heading-favicon{margin-left:.5rem;margin-right:0}.rtl #challenge-success-text{background-position:100%;padding-left:0;padding-right:42px}.rtl #challenge-error-text{background-position:100%;padding-left:0;padding-right:34px}</style><meta content=\"390\" http-equiv=\"refresh\"/></head><body class=\"no-js\"><div class=\"main-wrapper\" role=\"main\"><div class=\"main-content\"><noscript><div id=\"challenge-error-title\"><div class=\"h2\"><span id=\"challenge-error-text\">Enable JavaScript and cookies to continue</span></div></div></noscript></div></div><script>(function(){window._cf_chl_opt={cvId: '3',cZone: \"uzum.uz\",cType: 'managed',cNounce: '84252',cRay: '8b6841741f985eb9',cHash: '63d9860e5f07ea4',cUPMDTk: \"\\/uz?__cf_chl_tk=dIFT9VV.Od_iy.D9cknP2LLKk3I061Lx3P3hH5R5utU-1724218483-0.0.1.1-4692\",cFPWv: 'b',cTTimeMs: '1000',cMTimeMs: '390000',cTplV: 5,cTplB: 'cf',cK: \"\",fa: \"\\/uz?__cf_chl_f_tk=dIFT9VV.Od_iy.D9cknP2LLKk3I061Lx3P3hH5R5utU-1724218483-0.0.1.1-4692\",md: \"4S341ijQUZLcLT0OxvgbMHje79N0Qnc4AHZZ9qBDeIM-1724218483-1.1.1.1-n_59QBuloj0Ixv1v1X_aLL10C.b1Wnk_6xx47vAfrWemUH_TeT7oshR0S_kfUF_0.flC9bvFShGq.40ixaEOCb8eoW3G4W7rS2SQYbT757iEkYpRtJcdsYESNdc1yyuIJCKtAffLYEdCvQuZ2nkIxdynN9FpUcH.S259llhz31avv_6lxEkidWa8qMpgdTQnxhWjmyqQsSSLQ1mIMGqLyS4mNqfIU.zSD24Fk.ddUB15QsDF.0_ICScbvLK8JrJNyfUSv.wsy8mxSiRxQgITatR0ozlwU997DxMZRnPc1XBG583b32Yx65oqkTha2IVV33xHdcsJIqXZWsEjIcwrKBwDsygGmXN9uvQ.DZm285F61B8xLQ_UrefYhLffHQExD4jyXKmKjETcsPVJkrsNUluBF46kOgPboEWilobxeWd2fgfeAHDiSTlox8epnvtWtDm9hXNFNQdFSZfA15o11eDIK5.3zl_clCF3EaIbuSo2QoAnD0mL7bWP7eWzg8Ld.SA_iBzyqmAcTHnXgeaHlGY59NlvGtJUoBQgU5FTije2fGbhMVkQYY4FqYyjuRMug6OAZ5wj1KzgzCi5xQNq82KSDfotuQM_ozPwnwNqGDPcLV9sOnygvq_B9LII5c6bPQ0uNRw_DVCZV9EqvVbUo_4gCyHg6xYtHz8emTNgjDSI_6OWFLwSwDPK3bbS4_nWPn7l1br0x1zOxqXFbUEqqDQE3wCeER5c8fmNfLWWD4mKv9m1mAI93j3zkc9xfaFpUg2Fc8WITJUUuWjaMMnKKeXQs8SUInByuGrpvW3ROXlZ53bkAv7dqzDYF5b.W_MHBsPrgsxMbO3xYOMuVkN8nOOzdUe_TPHaEwBl.jCIKC_GYW5oieMO0QTVl4921XI6ntAy69JZ6JWUdCXv7RkmqMvSVMteVvab6WYMvL94JuDFC1BMETB3OKDAmqZBsHynWQB7oREVKgPyElwmYjbgH_BmqkyZohHsj_M6NPM4LDFGFFjkMW5l15jEvqy_.UJQITEifqt2OUGZNB5XJTlnVBK7NShkkT7k3Q0UCzXSlblUt42KogfmGO6wLH_0QFdUxpdLCqpEizVVi92i.08NkEdlp_Mzr4xgwfMw.oVCMj5QEHfcfMgm28IkjyXuLDua2JZF7hc9wn2CFwzjljLD_x4Gl7aPgBAYhdUvdSUuiSP3.QGSlQikv1l3CzQcAF.VyIJj_la1UD1eRZrewCovfmIUXD57GUNjYJD64vAnVRLQ7CH2WHnqEC8rnT3NFWqt.75lS7LogAHqYgyvnA54q9MkXstS7eo3vDB_6fxk3D0sCgILKm0GtSpDYSHskTtuy2Rprpy_gHGmaYnJXYvh31RN9h7hpbAQrqjVfSkg.jqdHE489RmOxFVYJpz6dhMoQisb3ADfg.9SNQa8CpmFNjqaTQDNn9POxu5C4eBv7oF55MP9i0Py4BRGXMnjVDNmwXirIwlcAyimDP1Teils8MMI.QgnAdgJbcd0cJ9RcoAMNZ1ww7BbPErE_SoFmVsZWliK5sc.0bHhjZH4LLDK6YeVeAv_SMl4KAjbPkPlRAiTglBistm6juJMHkDbWCfgzIylhRLomssArLBIW67SFHNAzlh1BdlUr_1KPtFvX9Lg2.fpOWOWE.kv.WcvehrmYSmUzY3_OwxaU02cZmcgbaGLCEa7Ww_Y9JT8rQl2Ni34WTAPten0axYytX_HQH88GZg.fuPA3othT3qGPP15UH8fGsl23fSdGInIWIu2YPsU9V2dMwg_LS_6l60JLOpxkN1oxe2v5f776nwbtAYs10PgnsngCL3ASh8306Uj5c.MmG7hgYszB4YodXxDRZO8EfWAApPvPDIcoszmsh6YC_2L6LUmpzxx28MIf6JSdxK2nknDy0L2tzPtQj_dXXThgAFdVtuFtDCAC2pEn9uuBcAsz15KR1jjleS6Sp6M3eD8B7tremkRBUY6t1JMnrqHhpZqERP.NM0SHZkvXam7QFfK5Wsi0G0QfeV9kcp7Fpfh2qtp6ZFC4epRrAr.RiJTi8cQQsfzEKVwLIQ9PnOt1uhRuGHlivlGGWSyszy1bxqbJYflr5MgRxrUnh5nd0xA87Wjkd5jpxoOnCLB9mxmMA5Xjxk0frmg8gQ9HaoSxFUQyYn9Z.6pcA7LEPwCUp9SOzEcUcw87PSG_y3QaIEhPXR2tOtYaF8SRYmEC4W7Gb5Wo98pyvGF8ibBurCiiaT9ZdtuUkg0VpNOffQvaTlWzm6zIIxT6_Kh6ulQJI4.l89IbZJMschBPFv.iO_EmRla8LbOsQIjoF_iZ4cjnrNYWfcN2OHfas6g28MhmmW5P_8\",mdrd: \"_gOJSFXfqaLc_c.4kSZac3nLX.DLzfiZDUwa7wtkGMk-1724218483-1.1.1.1-4DhQItXH_ZPk91MZA3pCMIImNQYiiO.J_XAUAXjei7ziVvi2bt_8pOLh12YKBGIkgAVsK5.aJF8Mj_IKjMrxXkE_di6L4G0RFHbe4FPz6n6F67abeLRDqTpS2iTZ5fGTKXFysqywuoSrtz98QitNeM9pAk6krSTZVMFl8.CIZYsXYZtaglBDAAc1_nK9iny9dtgy1R2ETccNwSogG2EkwIN6CHccXeSY5vptIfJZKDKedPS_B3hQm74BCx0EjuJHVp88KRLX9b7FjMj2xoLR3TRvPY3.YWZ9ZGlJi94mp9ZWxVLtrm_iFGGki2EB4WjLUWFfLFeHVHmnmIHO9VcpGu0nzMFpOsfzgUg.108lUEiZghSq4eYiC8Qef.kVf2TDgrrg4TpSYVAMmBpRlp6jGyrz6MRIv9lZ1.eRePTFmWeuNR087plVyAuFhrSbyw6v7qE1niqsP_9sZ3IovkUcip6Um.sWCz0rSbLiRsStEmHEqu0WjZBqUuv_2HTiKOhUX2jtcu_nSa.62.EqwHmv2eM1bgIZmsmrMsBtry.PNZZ11xfdlv05rpohXplIkZ8cC1IqgOGsdnJE.o5mE6SPx.6kucRIniL_ZWSpkJS7152kfJaaLVux470az7WNHQuWuBubs8OqmuWjHWD.uYBFxU_uHIQqZvVfV7yRXSw9O9qtfWHOVLP9L1R_pPb_7cXg5jODwSEW4KYFHDkOMyOsXY2x1um7RE3cPpKBeOqSdn8_qau4c41.JryaCJQdGNMmxBhGlW3iVY19ILCZYlNx6Q.i_72vpYxuEcegMq0s3s4zOisGx5olwXxOODwR_phL9ueU_pwoSuz51JJkxa1lPUcwOxEzCzV5rD2cYGQCS2PHmfTHgNCHt_epvZGHR7sQsYBNn2Atu.oDDaW0TYEQ0TncqsprnXSxY.xifQl3Q7rdrhNZmdsTLCeWVsspC3nDsOl7j_rWQ8sNStMQasw.aruCfwY844b3_mDVhoX.B51Jsq94q2Y3MApIplG1FgqKMD94j4IMMsHFBKShtKTsrqb3OBCxYQ4bWA4QY8d37XsQWh6cbFpf3hKVl3Dc32qKGCIJ7ZLV7D5XA_pLKCG7jHo64fLk.38h_jhAcxZD6bVclNDifoXsBBZ3CLduWiXp2VD6D5ntRM6GYzoCup9BjMEEodNk6KRxTGtz.v7.M4GM74UBOrdob.s6KDnluzrMQCKRyroEUp6KoL3b6bWEleRZKYBryj92JQsk6Cb_b_LWbVG7c7cMPcOnuSu_znzaFKTMg8iID1nrm8.hHzQbC4wMjvglCCI1KOrwaYU.y.HIZfXxSrAzemGFLqlr50gVVwHSnN.qgB._M41aMc5I13Ecy49Dc83142lMduoibNWHRqIMQpLZHicdsfUMyK9Syei5K5IwMQ9gW4TMIsv3KXkr_YOmOfp_5jqt5JA8kVb2GRaSLBvLXFhYJfDds8hc3TD0FIQXNWUAvfzHVEE_vl2f.JvmBMijEUxW0pGPq.nMtyhNnnUxjUFzI5ewLbuhFdi79sB4YcsCMsGuPsA1a._WTjaHOBU.d4yBTEU.oVw18YqY9FM4b6PentGZuUvuKJWVL5hBfzFa.vDErW0j7rLyxGVnZsgujlLYgZOqDJbTU.BNZCE.1IKFI1KGlP_uLCOWwevUUkHYs2YAKZubJhVq368A4gn7sczbMu2NbaLLKFy.pHImTSfZYLV_7QbB1C1idcqGvB2Ttu4A3VpumoPbuZJd5VJJKbIt8ksqm_XB_QCclZMfoR9dSdE2qxzeZhinzTIueeGejzTCYKWL8AzguZ_tABqRAqwvy27inrsTmCSAGK4VLKPAuOQ9xe3n1hCl.VLaFiHB3_Wk9rXL_uayMNiewC2VCjhK7H8xB0rx1rem4bA_YRTHYl.9wZyjK50LzZfPEQQxRb9clAYkpkGPGkht0_RBiMbCT8gZNlKt1lqSTsFetjBjPnCToc_l.QJEBna6SPkt0508efC34M3FOmDsdKGWKPMcy2Bofsub5ZhrZQNsCw.alVMegQGCkKmeVt95dKvyp7MsQ.7CpPIfX5xKVo6PAb9hkOEMYIHtaFmRIX7xEoPTWQLsh_BH.wUEzi9LIOZ6azvOicJM7NI5rDdF91ue5G02pNeVPHQvHzHPQe77vEqYaDKVtYxd06cD_XudattqSiU4dcggibp.PWSQwlpPzlXbCBICka0\",cRq: {ru: 'aHR0cHM6Ly91enVtLnV6L3V6',ra: 'RVNDQVAgV2Vic2NyYXBpbmcgQ2FwYWNpdHkgQnVpbGRpbmcgMS4w',d: 'i6wiocMCt6mq8ZBO3GY5hhidSNzh/PBlCl9hBWgjoLG/SY+9BVUuLy8yyVgNkUkiNhm7c2WsfiWH0IKEK2ddHFSjrsXsIm6UphKVJ3vPPCGasOhVfQPURz/TmqITuI5bkeeaBNTYrnYhCBdcWkTWrAjK30S4QB2yquW36VSZVl2firclWEX/rxwqusnUYgKr/gwX/93R2RsFBxbcKBFfcxFf8f4cxmoPfPo4gsyhTOPcnAHJV/g2Dlhb/qlnw3mdWJ+JHQxbk76GZ5MwucIDKYGEHu4sf2QLGnjpEYlqIDyKQOpQnsBMlU8QukweNiGlQTO9wPQkNAuxMUqXk6UtI+gM2uh7n0adlo6EnmAvbji2Hy26sPb/1fglmK7ZBi/Xdvr3Zu1AfvELuw/tA7ItRh5/WW9dxGqtZuDjje9G0O1ELq60McNyOdtCBx3Z5rg7mP8LYt+RgEHluEg8w7be7uwlS9knaRqj0QcBp9VYzzzi3wEkJmXhD5kIZgVoEw48DTe28RGyS7PKD4W2oFP5KA==',t: 'MTcyNDIxODQ4My4wMDAwMDA=',cT: Math.floor(Date.now() / 1000),m: 'J7hWalJr5/axwCApEYiNh/8ocS/2/olMNwP/SxQ5DOg=',i1: 'VEaM0kJA2yjQsapNhV04ng==',i2: 'rsdHU5e8y52bWP6n045gKA==',zh: 'qd0j+7YGzF6pRT3hlQ9XUWwWVFmcUns7XrC3H8C9CLk=',uh: 'EHM7oyzUwhM4nN2FHABxkm/0PAwzsjjbXav8C0b9jZw=',hh: '+ZA0HOpnfZAe2MrA62x+wifqG2EQ24Ri7TbXhecQtUc=',}};var cpo = document.createElement('script');cpo.src = '/cdn-cgi/challenge-platform/h/b/orchestrate/chl_page/v1?ray=8b6841741f985eb9';window._cf_chl_opt.cOgUHash = location.hash === '' && location.href.indexOf('#') !== -1 ? '#' : location.hash;window._cf_chl_opt.cOgUQuery = location.search === '' && location.href.slice(0, location.href.length - window._cf_chl_opt.cOgUHash.length).indexOf('?') !== -1 ? '?' : location.search;if (window.history && window.history.replaceState) {var ogU = location.pathname + window._cf_chl_opt.cOgUQuery + window._cf_chl_opt.cOgUHash;history.replaceState(null, null, \"\\/uz?__cf_chl_rt_tk=dIFT9VV.Od_iy.D9cknP2LLKk3I061Lx3P3hH5R5utU-1724218483-0.0.1.1-4692\" + window._cf_chl_opt.cOgUHash);cpo.onload = function() {history.replaceState(null, null, ogU);}}document.getElementsByTagName('head')[0].appendChild(cpo);}());</script></body></html>"
            ]
          },
          "execution_count": 28,
          "metadata": {},
          "output_type": "execute_result"
        }
      ],
      "source": [
        "response"
      ]
    },
    {
      "cell_type": "code",
      "execution_count": 29,
      "metadata": {
        "id": "oY2qZyklXdQz"
      },
      "outputs": [],
      "source": [
        "uzum_api = \"https://api.uzum.uz/api/main/root-categories?eco=false\""
      ]
    },
    {
      "cell_type": "code",
      "execution_count": null,
      "metadata": {
        "id": "_2_LDY4aXetL"
      },
      "outputs": [],
      "source": [
        "# Get one category\n",
        "res = s.get(uzum_api, headers=heads)"
      ]
    },
    {
      "cell_type": "code",
      "execution_count": null,
      "metadata": {
        "colab": {
          "base_uri": "https://localhost:8080/",
          "height": 191
        },
        "id": "uGiig422X_JP",
        "outputId": "1507d4dd-a429-4772-e81a-ca56488d81ea"
      },
      "outputs": [
        {
          "data": {
            "application/vnd.google.colaboratory.intrinsic+json": {
              "type": "string"
            },
            "text/plain": [
              "'<!DOCTYPE html><html lang=\"en-US\"><head><title>Just a moment...</title><meta http-equiv=\"Content-Type\" content=\"text/html; charset=UTF-8\"><meta http-equiv=\"X-UA-Compatible\" content=\"IE=Edge\"><meta name=\"robots\" content=\"noindex,nofollow\"><meta name=\"viewport\" content=\"width=device-width,initial-scale=1\"><style>*{box-sizing:border-box;margin:0;padding:0}html{line-height:1.15;-webkit-text-size-adjust:100%;color:#313131}button,html{font-family:system-ui,-apple-system,BlinkMacSystemFont,Segoe UI,Roboto,Helvetica Neue,Arial,Noto Sans,sans-serif,Apple Color Emoji,Segoe UI Emoji,Segoe UI Symbol,Noto Color Emoji}@media (prefers-color-scheme:dark){body{background-color:#222;color:#d9d9d9}body a{color:#fff}body a:hover{color:#ee730a;text-decoration:underline}body .lds-ring div{border-color:#999 transparent transparent}body .font-red{color:#b20f03}body .pow-button{background-color:#4693ff;color:#1d1d1d}body #challenge-success-text{background-image:url(data:image/svg+xml;base64,PHN2ZyB4bWxucz0iaHR0cDovL3d3dy53My5vcmcvMjAwMC9zdmciIHdpZHRoPSIzMiIgaGVpZ2h0PSIzMiIgZmlsbD0ibm9uZSIgdmlld0JveD0iMCAwIDI2IDI2Ij48cGF0aCBmaWxsPSIjZDlkOWQ5IiBkPSJNMTMgMGExMyAxMyAwIDEgMCAwIDI2IDEzIDEzIDAgMCAwIDAtMjZtMCAyNGExMSAxMSAwIDEgMSAwLTIyIDExIDExIDAgMCAxIDAgMjIiLz48cGF0aCBmaWxsPSIjZDlkOWQ5IiBkPSJtMTAuOTU1IDE2LjA1NS0zLjk1LTQuMTI1LTEuNDQ1IDEuMzg1IDUuMzcgNS42MSA5LjQ5NS05LjYtMS40Mi0xLjQwNXoiLz48L3N2Zz4=)}body #challenge-error-text{background-image:url(data:image/svg+xml;base64,PHN2ZyB4bWxucz0iaHR0cDovL3d3dy53My5vcmcvMjAwMC9zdmciIHdpZHRoPSIzMiIgaGVpZ2h0PSIzMiIgZmlsbD0ibm9uZSI+PHBhdGggZmlsbD0iI0IyMEYwMyIgZD0iTTE2IDNhMTMgMTMgMCAxIDAgMTMgMTNBMTMuMDE1IDEzLjAxNSAwIDAgMCAxNiAzbTAgMjRhMTEgMTEgMCAxIDEgMTEtMTEgMTEuMDEgMTEuMDEgMCAwIDEtMTEgMTEiLz48cGF0aCBmaWxsPSIjQjIwRjAzIiBkPSJNMTcuMDM4IDE4LjYxNUgxNC44N0wxNC41NjMgOS41aDIuNzgzem0tMS4wODQgMS40MjdxLjY2IDAgMS4wNTcuMzg4LjQwNy4zODkuNDA3Ljk5NCAwIC41OTYtLjQwNy45ODQtLjM5Ny4zOS0xLjA1Ny4zODktLjY1IDAtMS4wNTYtLjM4OS0uMzk4LS4zODktLjM5OC0uOTg0IDAtLjU5Ny4zOTgtLjk4NS40MDYtLjM5NyAxLjA1Ni0uMzk3Ii8+PC9zdmc+)}}body{display:flex;flex-direction:column;min-height:100vh}body.no-js .loading-spinner{visibility:hidden}body.no-js .challenge-running{display:none}body.dark{background-color:#222;color:#d9d9d9}body.dark a{color:#fff}body.dark a:hover{color:#ee730a;text-decoration:underline}body.dark .lds-ring div{border-color:#999 transparent transparent}body.dark .font-red{color:#b20f03}body.dark .pow-button{background-color:#4693ff;color:#1d1d1d}body.dark #challenge-success-text{background-image:url(data:image/svg+xml;base64,PHN2ZyB4bWxucz0iaHR0cDovL3d3dy53My5vcmcvMjAwMC9zdmciIHdpZHRoPSIzMiIgaGVpZ2h0PSIzMiIgZmlsbD0ibm9uZSIgdmlld0JveD0iMCAwIDI2IDI2Ij48cGF0aCBmaWxsPSIjZDlkOWQ5IiBkPSJNMTMgMGExMyAxMyAwIDEgMCAwIDI2IDEzIDEzIDAgMCAwIDAtMjZtMCAyNGExMSAxMSAwIDEgMSAwLTIyIDExIDExIDAgMCAxIDAgMjIiLz48cGF0aCBmaWxsPSIjZDlkOWQ5IiBkPSJtMTAuOTU1IDE2LjA1NS0zLjk1LTQuMTI1LTEuNDQ1IDEuMzg1IDUuMzcgNS42MSA5LjQ5NS05LjYtMS40Mi0xLjQwNXoiLz48L3N2Zz4=)}body.dark #challenge-error-text{background-image:url(data:image/svg+xml;base64,PHN2ZyB4bWxucz0iaHR0cDovL3d3dy53My5vcmcvMjAwMC9zdmciIHdpZHRoPSIzMiIgaGVpZ2h0PSIzMiIgZmlsbD0ibm9uZSI+PHBhdGggZmlsbD0iI0IyMEYwMyIgZD0iTTE2IDNhMTMgMTMgMCAxIDAgMTMgMTNBMTMuMDE1IDEzLjAxNSAwIDAgMCAxNiAzbTAgMjRhMTEgMTEgMCAxIDEgMTEtMTEgMTEuMDEgMTEuMDEgMCAwIDEtMTEgMTEiLz48cGF0aCBmaWxsPSIjQjIwRjAzIiBkPSJNMTcuMDM4IDE4LjYxNUgxNC44N0wxNC41NjMgOS41aDIuNzgzem0tMS4wODQgMS40MjdxLjY2IDAgMS4wNTcuMzg4LjQwNy4zODkuNDA3Ljk5NCAwIC41OTYtLjQwNy45ODQtLjM5Ny4zOS0xLjA1Ny4zODktLjY1IDAtMS4wNTYtLjM4OS0uMzk4LS4zODktLjM5OC0uOTg0IDAtLjU5Ny4zOTgtLjk4NS40MDYtLjM5NyAxLjA1Ni0uMzk3Ii8+PC9zdmc+)}body.light{background-color:transparent;color:#313131}body.light a{color:#0051c3}body.light a:hover{color:#ee730a;text-decoration:underline}body.light .lds-ring div{border-color:#595959 transparent transparent}body.light .font-red{color:#fc574a}body.light .pow-button{background-color:#003681;border-color:#003681;color:#fff}body.light #challenge-success-text{background-image:url(data:image/svg+xml;base64,PHN2ZyB4bWxucz0iaHR0cDovL3d3dy53My5vcmcvMjAwMC9zdmciIHdpZHRoPSIzMiIgaGVpZ2h0PSIzMiIgZmlsbD0ibm9uZSIgdmlld0JveD0iMCAwIDI2IDI2Ij48cGF0aCBmaWxsPSIjMzEzMTMxIiBkPSJNMTMgMGExMyAxMyAwIDEgMCAwIDI2IDEzIDEzIDAgMCAwIDAtMjZtMCAyNGExMSAxMSAwIDEgMSAwLTIyIDExIDExIDAgMCAxIDAgMjIiLz48cGF0aCBmaWxsPSIjMzEzMTMxIiBkPSJtMTAuOTU1IDE2LjA1NS0zLjk1LTQuMTI1LTEuNDQ1IDEuMzg1IDUuMzcgNS42MSA5LjQ5NS05LjYtMS40Mi0xLjQwNXoiLz48L3N2Zz4=)}body.light #challenge-error-text{background-image:url(data:image/svg+xml;base64,PHN2ZyB4bWxucz0iaHR0cDovL3d3dy53My5vcmcvMjAwMC9zdmciIHdpZHRoPSIzMiIgaGVpZ2h0PSIzMiIgZmlsbD0ibm9uZSI+PHBhdGggZmlsbD0iI2ZjNTc0YSIgZD0iTTE2IDNhMTMgMTMgMCAxIDAgMTMgMTNBMTMuMDE1IDEzLjAxNSAwIDAgMCAxNiAzbTAgMjRhMTEgMTEgMCAxIDEgMTEtMTEgMTEuMDEgMTEuMDEgMCAwIDEtMTEgMTEiLz48cGF0aCBmaWxsPSIjZmM1NzRhIiBkPSJNMTcuMDM4IDE4LjYxNUgxNC44N0wxNC41NjMgOS41aDIuNzgzem0tMS4wODQgMS40MjdxLjY2IDAgMS4wNTcuMzg4LjQwNy4zODkuNDA3Ljk5NCAwIC41OTYtLjQwNy45ODQtLjM5Ny4zOS0xLjA1Ny4zODktLjY1IDAtMS4wNTYtLjM4OS0uMzk4LS4zODktLjM5OC0uOTg0IDAtLjU5Ny4zOTgtLjk4NS40MDYtLjM5NyAxLjA1Ni0uMzk3Ii8+PC9zdmc+)}a{background-color:transparent;color:#0051c3;text-decoration:none;transition:color .15s ease}a:hover{color:#ee730a;text-decoration:underline}.main-content{margin:8rem auto;max-width:60rem;width:100%}.heading-favicon{height:2rem;margin-right:.5rem;width:2rem}@media (width <= 720px){.main-content{margin-top:4rem}.heading-favicon{height:1.5rem;width:1.5rem}}.footer,.main-content{padding-left:1.5rem;padding-right:1.5rem}.main-wrapper{align-items:center;display:flex;flex:1;flex-direction:column}.font-red{color:#b20f03}.spacer{margin:2rem 0}.h1{font-size:2.5rem;font-weight:500;line-height:3.75rem}.h2{font-weight:500}.core-msg,.h2{font-size:1.5rem;line-height:2.25rem}.body-text,.core-msg{font-weight:400}.body-text{font-size:1rem;line-height:1.25rem}@media (width <= 720px){.h1{font-size:1.5rem;line-height:1.75rem}.h2{font-size:1.25rem}.core-msg,.h2{line-height:1.5rem}.core-msg{font-size:1rem}}#challenge-error-text{background-image:url(data:image/svg+xml;base64,PHN2ZyB4bWxucz0iaHR0cDovL3d3dy53My5vcmcvMjAwMC9zdmciIHdpZHRoPSIzMiIgaGVpZ2h0PSIzMiIgZmlsbD0ibm9uZSI+PHBhdGggZmlsbD0iI2ZjNTc0YSIgZD0iTTE2IDNhMTMgMTMgMCAxIDAgMTMgMTNBMTMuMDE1IDEzLjAxNSAwIDAgMCAxNiAzbTAgMjRhMTEgMTEgMCAxIDEgMTEtMTEgMTEuMDEgMTEuMDEgMCAwIDEtMTEgMTEiLz48cGF0aCBmaWxsPSIjZmM1NzRhIiBkPSJNMTcuMDM4IDE4LjYxNUgxNC44N0wxNC41NjMgOS41aDIuNzgzem0tMS4wODQgMS40MjdxLjY2IDAgMS4wNTcuMzg4LjQwNy4zODkuNDA3Ljk5NCAwIC41OTYtLjQwNy45ODQtLjM5Ny4zOS0xLjA1Ny4zODktLjY1IDAtMS4wNTYtLjM4OS0uMzk4LS4zODktLjM5OC0uOTg0IDAtLjU5Ny4zOTgtLjk4NS40MDYtLjM5NyAxLjA1Ni0uMzk3Ii8+PC9zdmc+);padding-left:34px}#challenge-error-text,#challenge-success-text{background-repeat:no-repeat;background-size:contain}#challenge-success-text{background-image:url(data:image/svg+xml;base64,PHN2ZyB4bWxucz0iaHR0cDovL3d3dy53My5vcmcvMjAwMC9zdmciIHdpZHRoPSIzMiIgaGVpZ2h0PSIzMiIgZmlsbD0ibm9uZSIgdmlld0JveD0iMCAwIDI2IDI2Ij48cGF0aCBmaWxsPSIjMzEzMTMxIiBkPSJNMTMgMGExMyAxMyAwIDEgMCAwIDI2IDEzIDEzIDAgMCAwIDAtMjZtMCAyNGExMSAxMSAwIDEgMSAwLTIyIDExIDExIDAgMCAxIDAgMjIiLz48cGF0aCBmaWxsPSIjMzEzMTMxIiBkPSJtMTAuOTU1IDE2LjA1NS0zLjk1LTQuMTI1LTEuNDQ1IDEuMzg1IDUuMzcgNS42MSA5LjQ5NS05LjYtMS40Mi0xLjQwNXoiLz48L3N2Zz4=);padding-left:42px}.text-center{text-align:center}.pow-button{background-color:#0051c3;border:.063rem solid #0051c3;border-radius:.313rem;color:#fff;font-size:.875rem;line-height:1.313rem;margin:2rem 0;padding:.375rem 1rem;transition-duration:.2s;transition-property:background-color,border-color,color;transition-timing-function:ease}.pow-button:hover{background-color:#003681;border-color:#003681;color:#fff;cursor:pointer}.footer{font-size:.75rem;line-height:1.125rem;margin:0 auto;max-width:60rem;width:100%}.footer-inner{border-top:1px solid #d9d9d9;padding-bottom:1rem;padding-top:1rem}.clearfix:after{clear:both;content:\"\";display:table}.clearfix .column{float:left;padding-right:1.5rem;width:50%}.diagnostic-wrapper{margin-bottom:.5rem}.footer .ray-id{text-align:center}.footer .ray-id code{font-family:monaco,courier,monospace}.core-msg,.zone-name-title{overflow-wrap:break-word}@media (width <= 720px){.diagnostic-wrapper{display:flex;flex-wrap:wrap;justify-content:center}.clearfix:after{clear:none;content:none;display:initial;text-align:center}.column{padding-bottom:2rem}.clearfix .column{float:none;padding:0;width:auto;word-break:keep-all}.zone-name-title{margin-bottom:1rem}}.loading-spinner{height:76.391px}.lds-ring{display:inline-block;position:relative}.lds-ring,.lds-ring div{height:1.875rem;width:1.875rem}.lds-ring div{animation:lds-ring 1.2s cubic-bezier(.5,0,.5,1) infinite;border:.3rem solid transparent;border-radius:50%;border-top-color:#313131;box-sizing:border-box;display:block;position:absolute}.lds-ring div:first-child{animation-delay:-.45s}.lds-ring div:nth-child(2){animation-delay:-.3s}.lds-ring div:nth-child(3){animation-delay:-.15s}@keyframes lds-ring{0%{transform:rotate(0)}to{transform:rotate(1turn)}}@media screen and (-ms-high-contrast:active),screen and (-ms-high-contrast:none){.main-wrapper,body{display:block}}.rtl .heading-favicon{margin-left:.5rem;margin-right:0}.rtl #challenge-success-text{background-position:100%;padding-left:0;padding-right:42px}.rtl #challenge-error-text{background-position:100%;padding-left:0;padding-right:34px}</style><meta http-equiv=\"refresh\" content=\"390\"></head><body class=\"no-js\"><div class=\"main-wrapper\" role=\"main\"><div class=\"main-content\"><noscript><div id=\"challenge-error-title\"><div class=\"h2\"><span id=\"challenge-error-text\">Enable JavaScript and cookies to continue</span></div></div></noscript></div></div><script>(function(){window._cf_chl_opt={cvId: \\'3\\',cZone: \"api.uzum.uz\",cType: \\'managed\\',cNounce: \\'70489\\',cRay: \\'8af5291ffdcf8378\\',cHash: \\'a92120dffc2192b\\',cUPMDTk: \"\\\\/api\\\\/main\\\\/root-categories?eco=false&__cf_chl_tk=yO31BCQt.aZ1Kf6vH4CAzUcuMWUPFf_l1MaEBmJwz3s-1723011624-0.0.1.1-3839\",cFPWv: \\'b\\',cTTimeMs: \\'1000\\',cMTimeMs: \\'390000\\',cTplV: 5,cTplB: \\'cf\\',cK: \"\",fa: \"\\\\/api\\\\/main\\\\/root-categories?eco=false&__cf_chl_f_tk=yO31BCQt.aZ1Kf6vH4CAzUcuMWUPFf_l1MaEBmJwz3s-1723011624-0.0.1.1-3839\",md: \"6wey7QLy5YuR7DzjWfUK8kHlttzyXMjhqfpVk9uuiTA-1723011624-1.1.1.1-4X3Ymh3h8m1aTsEk_iP0Za8w5FVUL38rWPllJ7TUhM7qB8DnoEWCD2qWA9vy_Iihp4OlsWkqsMWixJMYwxQD8N6TgmoyGvcamsvuT4x3cfakeCl.Ku418JJiVlKONHQ.bIxGRXXyt03v4ohU_6txHrS4bZaA6wrfgM.2ZDMnXPcZ6AD327RW__5bOfTedMcRe23ywv79admzHCqN5.UHNUI8hxiUaknMOeFz6Jv5iHVM8w38gCVNA0nhZ5YRtw.A7B9wIqLjBW45MdkyYaK95ULalAbGxLjmQvtBFzpkbUJL617J0iAXRRDBpbQswN7aFGtXNM3lnJY54rffivjUCdMdIlS54R9PJD_zf1h5yDTQRr_z9CaLm.E53Fua5kmp8YjSHLPkoANTvzbASeVD.njV8PEvoHLXdol1IOO4PNj4biDfRNYXETMYkrt5FkBHgEsgyd1owU7WsnNH.Ty3.l6sH8mZEM8D2xQd8s_awcacDsyV5SSVVWfNI2fJ4XGf1EfsSLv2HojlYBVBayjfEAULgeeEDUqDB7bIBCpPC2UevtAo5zA7JkczOzo_5Q6Xohejx1tPeKFJ0gOQzdOgEgMayFKbYYx6pyZG1rlznpKP3n6z0urmen.rK2r7G9RYmr92JfMcYwrcsfGh7u_vvMLl_cXHPWvMwoDZlYOuHdc_J_p9C1ZqcX0qwMpaPYwPBG7KwJy8oTgTsTcYMbK_uPa8zU2KOwpZ4TmDvTbx4g4_KJej6eSHGl_KLcfqBY_pLGinhQRInZi4noZZoqP6Bo9RYLtMWDrgOxZXFz4Mv3P33AAZu69fAwSStbcpOdqmzqbXhlbob2xHev3BNJU_Sam6VUdtEEiELxEtswKBOk2HReVNoku76QA.nAlJL5ywgpKERbgojbFlBNP75wEExR5XF5MxOiTTVYqvGyLiPpBkz9.PAiSogKkTFyg8UdO_gs30y6HWm03S1aPR4TFpIG9FvTd9nvRnd01RZ3pXGeBOB51wt7vWHY.v4SPsmWQjV6Z21bw4wmhg5VVb_0X9U4Of447W9hoAlU5nCLhv3Ie.b3TG36N713yKfNyXdeqVgwVRuv8AYvM5q05.np1zqih26kN78IvJDq3ZYdHubhN5fdJ_GeA7Y99Rwbrh0hMT01d5eiUzzYHbNjz2nbg7A_j9tOzLD2kDA0yd8_vW.MV87vSCKo3lOuCwgQYKxqXn4rtlYwvkMptMfnQ2bt7DN1XAIDiMH2zBLzB9fmo4D02f_oxgQp0xQ4st98r3Ot_Bz70kYPR6UsTm_VV8MFHr9616HcJbLsYfJ4eDw0.SijwFD_LcjtvAs82YdD6J_KAtEOAQInSeMRA81LJ4yhCm72UAWjAqh6UCf5F9BG7JjKBTcrIM7_hRUDkKW2SpNQ1FbEhgQO20BRCU0fqNKQyJWwllVQUf.VYeBmXTB9N9KL962TEXTl85UbSPVpm8dI_yje67x66.Ov7uZCE58j8wsBM7XImG5ngrFEPHQIVyJGs\",mdrd: \"kg4qIB9ZkFcjEn0PzICntpan_bFrmsLElRarE0SuBwk-1723011624-1.1.1.1-1ge4kp3tsAgPhYDai56LBtfPQ76LsoQcgPgsj5tQxmASZlgc4g4Cya8f1w2s0S6KdJEQM2GRWLaVbDYTDVQdvS3gQpeyIA48PN2.R1Hs.h13OjiGxM74TDJ5Y5gUgql9WWbabCploJz40yI45huOUdbCNrf0VCE_ZxkP9nXQX386R5OSGEQGCYQdgZoz9cDBpgb0FHtrFB7j.jA1jv_3x2DAS5IuUqjzl3xkWSu.lLiB0NUMK4ddGbdg..A1IXpYaqREdD5g0MgvMIcF4Jr4oDnluMnZ0MGnuQT0OLjZL4gWm2H9uMPe1UqlCsuP0QIipAXJvDu1PV1jUlbtqbh7CVCC..9Fb7hae3kmHvRqw2L3hoJIn0CIAi3kzg81pbjhUtOfyLjrvy_K2O850DQYQ3bNKuU7B_qeSydNw61sD0R36p8.XtS4SeTXQTAfJskJJNor3ahdp1RerbFRF9PtwOQ_mfLFauBfsth2z0RkgHoA7mTizQuM8CB3H.437YNDEX6kBl_HAUxBZDwLD8839AqPWIMBSKEQweujlm7WQK0oeRxueffYWXDQorirH8lxmxrp3k6P4QWROdguCefVeEe3azX5XN4YLM7XAtoWvEC9QX7w5B8zKZqcnUlOAB0LETjF827CZO3.rEGQnuk1mLls1Qp6oBwh601Lf3K7TvqyTnKINUFNE2kwCNaaJjoPiwCb3KvfoeGNbN3LfzlSWWan8edq.fxJG8_xQW7WkFcmwKHvOoK3bxaKcO42aLBjh7HhmRySi2dgq0aRFJYh88Wu2RYUfwx0iS241xkuQjvXxhUml9RVrN0yD1qmmlAk24HB9HNkK8SjiHMCwl3QxBvV9TWuEwy5OISfd8mWG.w8qlrSH4rHLGFBhvKdrdSdZsvQvZy0ZX5NdqVFWw3DDLsw7SHVfsZDyE63g2lMppITNksxlLOyN58.kGT5VVddwXV6KrRArFXPtVXgdTLg0eTfyv.H3qWe2HPVwonvpFMXVadq_jFrtF5jaKX1__GWbJnm6hPCCrA9Ykg.5F9LnzZC4lvKPDsu7O8aRyNARknB4k2ofPc9fRP.bJhPPpOG2c1Ktpg2uibSAl_wM3YBzRgyfrgy0g82pEkqULYich8b0g5joLin2LyiuFTnxuOJrcq60viMUGrvzDXurYzW88Mj3N4mJ4_u0Her8C3.WI.WAB871fZ9TK72O9s.WYn5Ot.ZOFXBzrfrtBqr5b43JN0cM90ctKGtwaTcjbDd5VQdnCOazyh2Fb.FUJPsNKh9Y6JpnKg6UukvJzmFrm7EXMj9YR.fCf3YHJCodNnmIhPtNxrpCnZrb3sJD5CSEGhnQTJ6EpxbNCvZtChknqWI9CMAE95kwtxfA8h89engf.KtxO_t5Iy2DcVvXdAftavRP2P0NvstSXQ_D5zIxijtdru8gB6pVb.gKA2UWk823FnnCRjuRD5wwVdfTJ.zns4IDgLoASf4TtzVkwrK2W7UdE7ks_J4zQsh90AFe4tQaLOCU_oP88grJeMPraF2xVq86CqyC_DoJ9TzfnFE9AsO1b49CcftxtxjIi7hPXP0CDqHoUh7KNODFhWaavIu.2T2aF8QyBPIWTTy3XxlHBPQuI6MZ1NLVemIcbbSSCyFAEj2xF3uwS2LgcCNttXK4nOQoePToRemUtC5n4tk1Qo61BvhnKWNfsQ0G7_aGpBVvrt3e4SldWw6akb_7dY3lzHBa_A_scMy8wdZW1_ykwOKiftAlwiw4pol9id9YokiSoJ.t1VggmGzmtDJiHNpg9HObMmoVRJV1GzWBmmStttV8Tac2nOxAIF5B4wfEpMoTUuu1Xg1NnJ44yeTz9oMN7I8F_wFGqsAJITFq5G0KA2Tjnq_hbYy0xkrGkaFVS8REpt3auQDfKARCTUDfUfLiZFrlirDSeowIgohGAZkoKL6TkAto4VtyxC0nsRR_Qq_bnuU4_9HlDSxrA7LGKhSZef80WS8EpxhYQnSidvcNjqGxZ6HmsVVnTz9ZldvtrF.pw35sFsfGycYurOhc1LhM3eW1R0WLUnmHGM6o.K5xng3lROB2xG4mxETnIw5sGBs7o_jn5yok4V3tJZjwP9nzAVuSa.0pmCbxtzS6kcaQ_08HHFoFarF4K8CTX_NZZGcFkxQe7SIzMgBuzdoDMwPvcqBpu_TfoY_5avyC3KpPSozfQ\",cRq: {ru: \\'aHR0cHM6Ly9hcGkudXp1bS51ei9hcGkvbWFpbi9yb290LWNhdGVnb3JpZXM/ZWNvPWZhbHNl\\',ra: \\'RVNDQVAgV2Vic2NyYXBpbmcgQ2FwYWNpdHkgQnVpbGRpbmcgMS4w\\',d: \\'RMFwfhx5oaDv1b78uFvkRA7wIJ4eYOheGLkKCCouY5WMqs8zR0iAXUduO3kK3+9n24notC2pXYwlOmagERy7LSaBHT57fPurD1SwzQjHeU4Tt1zJdv/BRygwnEKtiddTILPn34Ur4a9jkoogoGxIr8FqpRkHxcB28j4qPwQ5u4r8Law3zE5+MyRqDfwCh0FXYaBRzb+QpWIDW5ZAuUYOKnytkw0RHnQQ2kNSRHaa0bySVrh4YW7tzTm+JL97qRnRg3cii1Bhyvghieqv7P9vNhgxT4N3f5mTJTZ74pSGc+u0Dr1sw69BfnvBH3M1QPLqR6DL4NkIIInWAaPI7ZNi0XVoHGXKLMZFZKwWFLy8fy7N8yj2L6tioHz/NDf+gbOJclp80/0z2UTFgZgy0GGvM2ZKAs0PJnfkidh9smdpYOYoPrnpWfMdn8EUvNFBAVSY2zUgrbW/EWjpKm3dqu8QAvXx7MBcDea8B11Zkjx286Lpc595qVQoxl/WZzU55yxLRvW7ls0p4VHmrasKkMEr4g==\\',t: \\'MTcyMzAxMTYyNC4wMDAwMDA=\\',cT: Math.floor(Date.now() / 1000),m: \\'bE6pTuPFK6gwuyp311J4X/0MYych9u5h7nXvHufQ2YE=\\',i1: \\'rX2NOx42eNg8/fhZv3FDvg==\\',i2: \\'5jcVehsS16VeybpmPGCTZA==\\',zh: \\'qd0j+7YGzF6pRT3hlQ9XUWwWVFmcUns7XrC3H8C9CLk=\\',uh: \\'EHM7oyzUwhM4nN2FHABxkm/0PAwzsjjbXav8C0b9jZw=\\',hh: \\'DWd7F7ql2SIGRS/6+lvxll6T1FKH3lBwRDXOGk8Px+s=\\',}};var cpo = document.createElement(\\'script\\');cpo.src = \\'/cdn-cgi/challenge-platform/h/b/orchestrate/chl_page/v1?ray=8af5291ffdcf8378\\';window._cf_chl_opt.cOgUHash = location.hash === \\'\\' && location.href.indexOf(\\'#\\') !== -1 ? \\'#\\' : location.hash;window._cf_chl_opt.cOgUQuery = location.search === \\'\\' && location.href.slice(0, location.href.length - window._cf_chl_opt.cOgUHash.length).indexOf(\\'?\\') !== -1 ? \\'?\\' : location.search;if (window.history && window.history.replaceState) {var ogU = location.pathname + window._cf_chl_opt.cOgUQuery + window._cf_chl_opt.cOgUHash;history.replaceState(null, null, \"\\\\/api\\\\/main\\\\/root-categories?eco=false&__cf_chl_rt_tk=yO31BCQt.aZ1Kf6vH4CAzUcuMWUPFf_l1MaEBmJwz3s-1723011624-0.0.1.1-3839\" + window._cf_chl_opt.cOgUHash);cpo.onload = function() {history.replaceState(null, null, ogU);}}document.getElementsByTagName(\\'head\\')[0].appendChild(cpo);}());</script></body></html>'"
            ]
          },
          "execution_count": 9,
          "metadata": {},
          "output_type": "execute_result"
        }
      ],
      "source": [
        "res.text"
      ]
    },
    {
      "cell_type": "markdown",
      "metadata": {
        "id": "LdwBDCXAjgDl"
      },
      "source": [
        "# Shopping-D Lao"
      ]
    },
    {
      "cell_type": "code",
      "execution_count": null,
      "metadata": {
        "id": "7uCCCbeDm8Tx"
      },
      "outputs": [],
      "source": [
        "lao_sitemap = \"https://www.shopping-d.com/lo/sitemap_collections_1.xml\""
      ]
    },
    {
      "cell_type": "code",
      "execution_count": null,
      "metadata": {
        "colab": {
          "base_uri": "https://localhost:8080/"
        },
        "id": "YORvGF7qm8Qt",
        "outputId": "a4eec545-131a-4939-b065-754f2a98557c"
      },
      "outputs": [
        {
          "name": "stderr",
          "output_type": "stream",
          "text": [
            "/usr/lib/python3.10/html/parser.py:170: XMLParsedAsHTMLWarning: It looks like you're parsing an XML document using an HTML parser. If this really is an HTML document (maybe it's XHTML?), you can ignore or filter this warning. If it's XML, you should know that using an XML parser will be more reliable. To parse this document as XML, make sure you have the lxml package installed, and pass the keyword argument `features=\"xml\"` into the BeautifulSoup constructor.\n",
            "  k = self.parse_starttag(i)\n"
          ]
        }
      ],
      "source": [
        "# Get sitemap\n",
        "with s.get(lao_sitemap, headers=heads) as res:\n",
        "    response = BeautifulSoup(res.text, \"html.parser\")"
      ]
    },
    {
      "cell_type": "code",
      "execution_count": null,
      "metadata": {
        "id": "OPK4iYkNm8Nk"
      },
      "outputs": [],
      "source": [
        "category_list = [\n",
        "    item.get_text()\n",
        "    for item in\n",
        "    response.find_all(\"loc\")\n",
        "]"
      ]
    },
    {
      "cell_type": "code",
      "execution_count": null,
      "metadata": {
        "colab": {
          "base_uri": "https://localhost:8080/"
        },
        "id": "OhvvHY8vnjmy",
        "outputId": "17cc8c53-afe5-47c0-979c-cf3a79289476"
      },
      "outputs": [
        {
          "data": {
            "text/plain": [
              "380"
            ]
          },
          "execution_count": 13,
          "metadata": {},
          "output_type": "execute_result"
        }
      ],
      "source": [
        "len(category_list)"
      ]
    },
    {
      "cell_type": "code",
      "execution_count": null,
      "metadata": {
        "colab": {
          "base_uri": "https://localhost:8080/",
          "height": 35
        },
        "id": "GLoCALh_iwxl",
        "outputId": "0af7fcc4-bcfe-43e3-a13e-b432a7e1684f"
      },
      "outputs": [
        {
          "data": {
            "application/vnd.google.colaboratory.intrinsic+json": {
              "type": "string"
            },
            "text/plain": [
              "'https://www.shopping-d.com/lo/collections/best-selling-products'"
            ]
          },
          "execution_count": 14,
          "metadata": {},
          "output_type": "execute_result"
        }
      ],
      "source": [
        "category_list[0]"
      ]
    },
    {
      "cell_type": "code",
      "execution_count": null,
      "metadata": {
        "id": "nXa8n026jjHg"
      },
      "outputs": [],
      "source": [
        "lao_wine = \"https://www.shopping-d.com/lo/collections/pv-wine\""
      ]
    },
    {
      "cell_type": "code",
      "execution_count": null,
      "metadata": {
        "id": "VLB1uhkHjlSA"
      },
      "outputs": [],
      "source": [
        "# Get page\n",
        "with s.get(lao_wine, headers=heads) as res:\n",
        "    response = BeautifulSoup(res.text, \"html.parser\")"
      ]
    },
    {
      "cell_type": "code",
      "execution_count": null,
      "metadata": {
        "id": "9Vvsr1h9jsV8"
      },
      "outputs": [],
      "source": [
        "products_dict = [\n",
        "    item.find(\"div\", {\"class\": \"productitem-quickshop\"}).find(\"script\", {\"data-product-quickshop-data\": \"\"}).get_text().strip()\n",
        "    for item in\n",
        "    response.find(\"div\", {\"class\": \"productgrid--items\"}).find_all(\"article\")\n",
        "]\n"
      ]
    },
    {
      "cell_type": "code",
      "execution_count": null,
      "metadata": {
        "colab": {
          "base_uri": "https://localhost:8080/"
        },
        "id": "n5TBtMZFjtqy",
        "outputId": "ab02b912-88d3-4748-e1c0-8850b2c07daf"
      },
      "outputs": [
        {
          "data": {
            "text/plain": [
              "{'settings': {'money_format': '₭{{amount}}',\n",
              "  'enable_image_zoom': True,\n",
              "  'image_zoom_level': 'min'},\n",
              " 'context': {'product_available': 'ເພີ່ມກະຕ່າ',\n",
              "  'product_unavailable': 'ຂາຍໝົດແລ້ວ'},\n",
              " 'product': {'id': 4609495892014,\n",
              "  'title': 'ວາຍ SANTA ANA SAUVIGNON BLANC 750 ml',\n",
              "  'handle': 'santa-ana-sauvignon-blanc-750-ml',\n",
              "  'description': '<p>ວາຍ SANTA ANA SAUVIGNON BLANC 750 ml</p>',\n",
              "  'published_at': '2020-07-10T14:25:02+07:00',\n",
              "  'created_at': '2020-07-10T14:25:03+07:00',\n",
              "  'vendor': 'Thatdum winehouse',\n",
              "  'type': 'White Wine',\n",
              "  'tags': ['African wine',\n",
              "   'Alcohol',\n",
              "   'Argentina wine',\n",
              "   'Australia wine',\n",
              "   'Australian wine',\n",
              "   'Chile wine',\n",
              "   'French wine',\n",
              "   'German wine',\n",
              "   'Italian wine',\n",
              "   'local',\n",
              "   'New Zealand wine',\n",
              "   'Spain wine',\n",
              "   'USA wine',\n",
              "   'wine'],\n",
              "  'price': 24000000,\n",
              "  'price_min': 24000000,\n",
              "  'price_max': 24000000,\n",
              "  'available': True,\n",
              "  'price_varies': False,\n",
              "  'compare_at_price': None,\n",
              "  'compare_at_price_min': 0,\n",
              "  'compare_at_price_max': 0,\n",
              "  'compare_at_price_varies': False,\n",
              "  'variants': [{'id': 32463980789806,\n",
              "    'title': 'Default Title',\n",
              "    'option1': 'Default Title',\n",
              "    'option2': None,\n",
              "    'option3': None,\n",
              "    'sku': '',\n",
              "    'requires_shipping': True,\n",
              "    'taxable': False,\n",
              "    'featured_image': None,\n",
              "    'available': True,\n",
              "    'name': 'ວາຍ SANTA ANA SAUVIGNON BLANC 750 ml',\n",
              "    'public_title': None,\n",
              "    'options': ['Default Title'],\n",
              "    'price': 24000000,\n",
              "    'weight': 0,\n",
              "    'compare_at_price': None,\n",
              "    'inventory_quantity': -8,\n",
              "    'inventory_management': None,\n",
              "    'inventory_policy': 'deny',\n",
              "    'barcode': '7790762076773',\n",
              "    'requires_selling_plan': False,\n",
              "    'selling_plan_allocations': []}],\n",
              "  'images': ['//www.shopping-d.com/cdn/shop/products/SANTAANASAUVIGNONBLANC750ml.png?v=1634102130'],\n",
              "  'featured_image': '//www.shopping-d.com/cdn/shop/products/SANTAANASAUVIGNONBLANC750ml.png?v=1634102130',\n",
              "  'options': ['ຫົວຂໍ້'],\n",
              "  'media': [{'alt': None,\n",
              "    'id': 22318892974259,\n",
              "    'position': 1,\n",
              "    'preview_image': {'aspect_ratio': 1.0,\n",
              "     'height': 800,\n",
              "     'width': 800,\n",
              "     'src': '//www.shopping-d.com/cdn/shop/products/SANTAANASAUVIGNONBLANC750ml.png?v=1634102130'},\n",
              "    'aspect_ratio': 1.0,\n",
              "    'height': 800,\n",
              "    'media_type': 'image',\n",
              "    'src': '//www.shopping-d.com/cdn/shop/products/SANTAANASAUVIGNONBLANC750ml.png?v=1634102130',\n",
              "    'width': 800}],\n",
              "  'requires_selling_plan': False,\n",
              "  'selling_plan_groups': [],\n",
              "  'content': '<p>ວາຍ SANTA ANA SAUVIGNON BLANC 750 ml</p>'}}"
            ]
          },
          "execution_count": 18,
          "metadata": {},
          "output_type": "execute_result"
        }
      ],
      "source": [
        "json.loads(products_dict[0])"
      ]
    },
    {
      "cell_type": "code",
      "execution_count": null,
      "metadata": {
        "colab": {
          "base_uri": "https://localhost:8080/",
          "height": 35
        },
        "id": "AQp0RjlXklSr",
        "outputId": "7d7f8d63-3f00-43c1-b765-6071093b4de5"
      },
      "outputs": [
        {
          "data": {
            "application/vnd.google.colaboratory.intrinsic+json": {
              "type": "string"
            },
            "text/plain": [
              "'/lo/collections/pv-wine?page=2&grid_list'"
            ]
          },
          "execution_count": 19,
          "metadata": {},
          "output_type": "execute_result"
        }
      ],
      "source": [
        "response.find(\"ul\", {\"class\": \"pagination--inner\"}).find(\"li\", {\"class\": \"pagination--next\"}).find(\"a\").get(\"href\")"
      ]
    },
    {
      "cell_type": "code",
      "execution_count": null,
      "metadata": {
        "id": "ulpq3WCCmlFD"
      },
      "outputs": [],
      "source": []
    },
    {
      "cell_type": "markdown",
      "metadata": {
        "id": "7ZLo73_NqfVq"
      },
      "source": [
        "# RB Patel"
      ]
    },
    {
      "cell_type": "code",
      "execution_count": null,
      "metadata": {
        "id": "jDYCpf79qhcm"
      },
      "outputs": [],
      "source": [
        "shop_url = \"https://rbpatel.com.fj/shop/\""
      ]
    },
    {
      "cell_type": "code",
      "execution_count": null,
      "metadata": {
        "id": "djOPlUPVqkVA"
      },
      "outputs": [],
      "source": [
        "# Get homepage\n",
        "with s.get(shop_url, headers=heads) as res:\n",
        "    response = BeautifulSoup(res.text, \"html.parser\")"
      ]
    },
    {
      "cell_type": "code",
      "execution_count": null,
      "metadata": {
        "id": "nkw3T-3vqnh1"
      },
      "outputs": [],
      "source": [
        "category_list = [\n",
        "    {\n",
        "        \"category\": item.get_text(),\n",
        "        \"url\": item.get(\"href\")\n",
        "    }\n",
        "    for item in\n",
        "    response.find(\"ul\", {\"class\": \"product-categories\"}).find_all(\"a\")\n",
        "]\n"
      ]
    },
    {
      "cell_type": "code",
      "execution_count": null,
      "metadata": {
        "colab": {
          "base_uri": "https://localhost:8080/"
        },
        "id": "zXG3K_DumsJE",
        "outputId": "178e73f3-690c-4013-e04a-fb5ded6d4410"
      },
      "outputs": [
        {
          "data": {
            "text/plain": [
              "[{'category': 'Baby Essentials',\n",
              "  'url': 'https://rbpatel.com.fj/product-category/baby-toddler-kids/baby-essentials/'},\n",
              " {'category': 'Baby Toddler & Kids',\n",
              "  'url': 'https://rbpatel.com.fj/product-category/baby-toddler-kids/'},\n",
              " {'category': 'Bags',\n",
              "  'url': 'https://rbpatel.com.fj/product-category/variety/bags/'}]"
            ]
          },
          "execution_count": 23,
          "metadata": {},
          "output_type": "execute_result"
        }
      ],
      "source": [
        "category_list[:3]"
      ]
    },
    {
      "cell_type": "code",
      "execution_count": null,
      "metadata": {
        "id": "ZSctDU9nsCFv"
      },
      "outputs": [],
      "source": [
        "# Get homepage\n",
        "with s.get(category_list[0].get(\"url\"), headers=heads) as res:\n",
        "    response = BeautifulSoup(res.text, \"html.parser\")"
      ]
    },
    {
      "cell_type": "code",
      "execution_count": null,
      "metadata": {
        "colab": {
          "base_uri": "https://localhost:8080/"
        },
        "id": "JYzsvfpUnz_Q",
        "outputId": "680f460e-f14b-45b0-bd22-2dab0e0c0a17"
      },
      "outputs": [
        {
          "data": {
            "text/plain": [
              "<bdi><span class=\"woocommerce-Price-currencySymbol\">$</span>2.28</bdi>"
            ]
          },
          "execution_count": 27,
          "metadata": {},
          "output_type": "execute_result"
        }
      ],
      "source": [
        "response.find(\"bdi\")"
      ]
    },
    {
      "cell_type": "code",
      "execution_count": null,
      "metadata": {
        "colab": {
          "base_uri": "https://localhost:8080/",
          "height": 35
        },
        "id": "bY_jbkHAnpB5",
        "outputId": "3e9af59e-4c13-44e0-c4f4-28637bdcdece"
      },
      "outputs": [
        {
          "data": {
            "application/vnd.google.colaboratory.intrinsic+json": {
              "type": "string"
            },
            "text/plain": [
              "'$2.28'"
            ]
          },
          "execution_count": 26,
          "metadata": {},
          "output_type": "execute_result"
        }
      ],
      "source": [
        "response.find(\"bdi\").get_text()"
      ]
    },
    {
      "cell_type": "code",
      "execution_count": null,
      "metadata": {
        "id": "Tb5zioV2trIw"
      },
      "outputs": [],
      "source": [
        "test = response.find(\"bdi\")"
      ]
    },
    {
      "cell_type": "code",
      "execution_count": null,
      "metadata": {
        "id": "deqs7BLHtrFz"
      },
      "outputs": [],
      "source": [
        "from bs4 import Tag, NavigableString\n",
        "\n",
        "# Function to get text without including child tags' text\n",
        "def get_direct_text(tag):\n",
        "    return ''.join([str(item) for item in tag.contents if not isinstance(item, (Tag, NavigableString)) or item.name is None])"
      ]
    },
    {
      "cell_type": "code",
      "execution_count": null,
      "metadata": {
        "colab": {
          "base_uri": "https://localhost:8080/",
          "height": 35
        },
        "id": "-4QLLYJQtrCi",
        "outputId": "da4b8dc0-fffd-4787-825c-3bbb65e6bb53"
      },
      "outputs": [
        {
          "data": {
            "application/vnd.google.colaboratory.intrinsic+json": {
              "type": "string"
            },
            "text/plain": [
              "'2.28'"
            ]
          },
          "execution_count": 29,
          "metadata": {},
          "output_type": "execute_result"
        }
      ],
      "source": [
        "get_direct_text(test)"
      ]
    },
    {
      "cell_type": "code",
      "execution_count": null,
      "metadata": {
        "colab": {
          "base_uri": "https://localhost:8080/",
          "height": 35
        },
        "id": "rg7_aP1hsDk8",
        "outputId": "41a14f1f-5ab9-4c23-e521-38306dd08e80"
      },
      "outputs": [
        {
          "data": {
            "application/vnd.google.colaboratory.intrinsic+json": {
              "type": "string"
            },
            "text/plain": [
              "'https://rbpatel.com.fj/product-category/baby-toddler-kids/baby-essentials/page/2/'"
            ]
          },
          "execution_count": 30,
          "metadata": {},
          "output_type": "execute_result"
        }
      ],
      "source": [
        "response.find(\"nav\", {\"class\": \"woocommerce-pagination\"}).find(\"a\", {\"class\": \"next\"}).get(\"href\")"
      ]
    },
    {
      "cell_type": "code",
      "execution_count": null,
      "metadata": {
        "id": "XWEJvVhIuTkj"
      },
      "outputs": [],
      "source": []
    },
    {
      "cell_type": "markdown",
      "metadata": {
        "id": "GiHuhZ7-vDJL"
      },
      "source": [
        "# MH Fiji"
      ]
    },
    {
      "cell_type": "code",
      "execution_count": null,
      "metadata": {
        "id": "GlXncwQGvETQ"
      },
      "outputs": [],
      "source": [
        "shop_url = \"https://www.mh.com.fj/shop/\""
      ]
    },
    {
      "cell_type": "code",
      "execution_count": null,
      "metadata": {
        "id": "Hs8Z9UvxvGeN"
      },
      "outputs": [],
      "source": [
        "# Get homepage\n",
        "with s.get(shop_url, headers=heads) as res:\n",
        "    response = BeautifulSoup(res.text, \"html.parser\")"
      ]
    },
    {
      "cell_type": "code",
      "execution_count": null,
      "metadata": {
        "colab": {
          "base_uri": "https://localhost:8080/"
        },
        "id": "6Vpn7bSdvIwx",
        "outputId": "648b8887-bfde-4146-c631-a8114dcc43fb"
      },
      "outputs": [
        {
          "data": {
            "text/plain": [
              "<ul class=\"product-categories show-children-only\"> <li class=\"cat-item cat-item-15\"><a href=\"https://www.mh.com.fj/product-category/uncategorized/\">Uncategorized</a>\n",
              "</li>\n",
              "<li class=\"cat-item cat-item-116\"><a href=\"https://www.mh.com.fj/product-category/1-1-home-maker/\">1.1 Home Maker</a>\n",
              "<ul class=\"children\">\n",
              "<li class=\"cat-item cat-item-121\"><a href=\"https://www.mh.com.fj/product-category/1-1-home-maker/audiovisual/\">Audio&amp;Visual</a>\n",
              "<ul class=\"children\">\n",
              "<li class=\"cat-item cat-item-122\"><a href=\"https://www.mh.com.fj/product-category/1-1-home-maker/audiovisual/dvd/\">Dvd</a>\n",
              "</li>\n",
              "<li class=\"cat-item cat-item-123\"><a href=\"https://www.mh.com.fj/product-category/1-1-home-maker/audiovisual/tv/\">Tv</a>\n",
              "</li>\n",
              "</ul>\n",
              "</li>\n",
              "<li class=\"cat-item cat-item-124\"><a href=\"https://www.mh.com.fj/product-category/1-1-home-maker/electrical-appliances/\">Electrical Appliances</a>\n",
              "<ul class=\"children\">\n",
              "<li class=\"cat-item cat-item-125\"><a href=\"https://www.mh.com.fj/product-category/1-1-home-maker/electrical-appliances/household-appliance/\">Household Appliance</a>\n",
              "</li>\n",
              "<li class=\"cat-item cat-item-127\"><a href=\"https://www.mh.com.fj/product-category/1-1-home-maker/electrical-appliances/laundry/\">Laundry</a>\n",
              "</li>\n",
              "<li class=\"cat-item cat-item-126\"><a href=\"https://www.mh.com.fj/product-category/1-1-home-maker/electrical-appliances/refrigeration/\">Refrigeration</a>\n",
              "</li>\n",
              "<li class=\"cat-item cat-item-128\"><a href=\"https://www.mh.com.fj/product-category/1-1-home-maker/electrical-appliances/small-kitchen-appliance/\">Small Kitchen Appliance</a>\n",
              "</li>\n",
              "</ul>\n",
              "</li>\n",
              "<li class=\"cat-item cat-item-117\"><a href=\"https://www.mh.com.fj/product-category/1-1-home-maker/furniture/\">Furniture</a>\n",
              "<ul class=\"children\">\n",
              "<li class=\"cat-item cat-item-120\"><a href=\"https://www.mh.com.fj/product-category/1-1-home-maker/furniture/bedding/\">Bedding</a>\n",
              "</li>\n",
              "<li class=\"cat-item cat-item-118\"><a href=\"https://www.mh.com.fj/product-category/1-1-home-maker/furniture/living-room-furniture/\">Living Room Furniture</a>\n",
              "</li>\n",
              "<li class=\"cat-item cat-item-119\"><a href=\"https://www.mh.com.fj/product-category/1-1-home-maker/furniture/mattresses/\">Mattresses</a>\n",
              "</li>\n",
              "</ul>\n",
              "</li>\n",
              "</ul>\n",
              "</li>\n",
              "<li class=\"cat-item cat-item-20\"><a href=\"https://www.mh.com.fj/product-category/1-2-alcoholic-beverage/\">1.2 Alcoholic Beverage</a>\n",
              "<ul class=\"children\">\n",
              "<li class=\"cat-item cat-item-23\"><a href=\"https://www.mh.com.fj/product-category/1-2-alcoholic-beverage/beer/\">Beer</a>\n",
              "</li>\n",
              "<li class=\"cat-item cat-item-22\"><a href=\"https://www.mh.com.fj/product-category/1-2-alcoholic-beverage/imported-rtd/\">Imported Rtd</a>\n",
              "</li>\n",
              "<li class=\"cat-item cat-item-26\"><a href=\"https://www.mh.com.fj/product-category/1-2-alcoholic-beverage/imported-spirits/\">Imported Spirits</a>\n",
              "</li>\n",
              "<li class=\"cat-item cat-item-24\"><a href=\"https://www.mh.com.fj/product-category/1-2-alcoholic-beverage/imported-wines/\">Imported Wines</a>\n",
              "</li>\n",
              "<li class=\"cat-item cat-item-21\"><a href=\"https://www.mh.com.fj/product-category/1-2-alcoholic-beverage/local-rtd/\">Local Rtd</a>\n",
              "</li>\n",
              "<li class=\"cat-item cat-item-25\"><a href=\"https://www.mh.com.fj/product-category/1-2-alcoholic-beverage/local-spirits/\">Local Spirits</a>\n",
              "</li>\n",
              "</ul>\n",
              "</li>\n",
              "<li class=\"cat-item cat-item-16\"><a href=\"https://www.mh.com.fj/product-category/1-3-food/\">1.3 Food</a>\n",
              "<ul class=\"children\">\n",
              "<li class=\"cat-item cat-item-75\"><a href=\"https://www.mh.com.fj/product-category/1-3-food/6001/\">6001</a>\n",
              "</li>\n",
              "<li class=\"cat-item cat-item-81\"><a href=\"https://www.mh.com.fj/product-category/1-3-food/baby-milk/\">Baby Milk</a>\n",
              "</li>\n",
              "<li class=\"cat-item cat-item-101\"><a href=\"https://www.mh.com.fj/product-category/1-3-food/baked-bean-spaghetti/\">Baked Bean / Spaghetti</a>\n",
              "</li>\n",
              "<li class=\"cat-item cat-item-95\"><a href=\"https://www.mh.com.fj/product-category/1-3-food/baking-products/\">Baking Products</a>\n",
              "</li>\n",
              "<li class=\"cat-item cat-item-88\"><a href=\"https://www.mh.com.fj/product-category/1-3-food/biscuit/\">Biscuit</a>\n",
              "</li>\n",
              "<li class=\"cat-item cat-item-114\"><a href=\"https://www.mh.com.fj/product-category/1-3-food/breakfast/\">Breakfast</a>\n",
              "</li>\n",
              "<li class=\"cat-item cat-item-96\"><a href=\"https://www.mh.com.fj/product-category/1-3-food/cake-mix-essentials/\">Cake Mix &amp; Essentials</a>\n",
              "</li>\n",
              "<li class=\"cat-item cat-item-92\"><a href=\"https://www.mh.com.fj/product-category/1-3-food/cakes/\">Cakes</a>\n",
              "</li>\n",
              "<li class=\"cat-item cat-item-76\"><a href=\"https://www.mh.com.fj/product-category/1-3-food/canned-fish/\">Canned Fish</a>\n",
              "</li>\n",
              "<li class=\"cat-item cat-item-113\"><a href=\"https://www.mh.com.fj/product-category/1-3-food/canned-fruits/\">Canned Fruits</a>\n",
              "</li>\n",
              "<li class=\"cat-item cat-item-99\"><a href=\"https://www.mh.com.fj/product-category/1-3-food/canned-meat/\">Canned Meat</a>\n",
              "</li>\n",
              "<li class=\"cat-item cat-item-100\"><a href=\"https://www.mh.com.fj/product-category/1-3-food/canned-seafood/\">Canned Seafood</a>\n",
              "</li>\n",
              "<li class=\"cat-item cat-item-111\"><a href=\"https://www.mh.com.fj/product-category/1-3-food/canned-vegetables/\">Canned Vegetables</a>\n",
              "</li>\n",
              "<li class=\"cat-item cat-item-98\"><a href=\"https://www.mh.com.fj/product-category/1-3-food/cheese-1-3-food/\">Cheese</a>\n",
              "</li>\n",
              "<li class=\"cat-item cat-item-87\"><a href=\"https://www.mh.com.fj/product-category/1-3-food/chocolates/\">Chocolates</a>\n",
              "</li>\n",
              "<li class=\"cat-item cat-item-74\"><a href=\"https://www.mh.com.fj/product-category/1-3-food/coconut-cream/\">Coconut Cream</a>\n",
              "</li>\n",
              "<li class=\"cat-item cat-item-86\"><a href=\"https://www.mh.com.fj/product-category/1-3-food/confectionery/\">Confectionery</a>\n",
              "</li>\n",
              "<li class=\"cat-item cat-item-93\"><a href=\"https://www.mh.com.fj/product-category/1-3-food/desserts/\">Desserts</a>\n",
              "</li>\n",
              "<li class=\"cat-item cat-item-112\"><a href=\"https://www.mh.com.fj/product-category/1-3-food/dried-fruits/\">Dried Fruits</a>\n",
              "</li>\n",
              "<li class=\"cat-item cat-item-109\"><a href=\"https://www.mh.com.fj/product-category/1-3-food/dried-legumes/\">Dried Legumes</a>\n",
              "</li>\n",
              "<li class=\"cat-item cat-item-80\"><a href=\"https://www.mh.com.fj/product-category/1-3-food/edible-oil/\">Edible Oil</a>\n",
              "</li>\n",
              "<li class=\"cat-item cat-item-94\"><a href=\"https://www.mh.com.fj/product-category/1-3-food/essences-colours-syrups/\">Essences / Colours / Syrups</a>\n",
              "</li>\n",
              "<li class=\"cat-item cat-item-72\"><a href=\"https://www.mh.com.fj/product-category/1-3-food/export-png/\">Export – Png</a>\n",
              "</li>\n",
              "<li class=\"cat-item cat-item-79\"><a href=\"https://www.mh.com.fj/product-category/1-3-food/flour-sharp/\">Flour / Sharp</a>\n",
              "</li>\n",
              "<li class=\"cat-item cat-item-17\"><a href=\"https://www.mh.com.fj/product-category/1-3-food/food/\">Food</a>\n",
              "</li>\n",
              "<li class=\"cat-item cat-item-83\"><a href=\"https://www.mh.com.fj/product-category/1-3-food/infant-food/\">Infant Food</a>\n",
              "</li>\n",
              "<li class=\"cat-item cat-item-105\"><a href=\"https://www.mh.com.fj/product-category/1-3-food/mayonnaise/\">Mayonnaise</a>\n",
              "</li>\n",
              "<li class=\"cat-item cat-item-82\"><a href=\"https://www.mh.com.fj/product-category/1-3-food/milk/\">Milk</a>\n",
              "</li>\n",
              "<li class=\"cat-item cat-item-108\"><a href=\"https://www.mh.com.fj/product-category/1-3-food/noodles/\">Noodles</a>\n",
              "</li>\n",
              "<li class=\"cat-item cat-item-91\"><a href=\"https://www.mh.com.fj/product-category/1-3-food/oil/\">Oil</a>\n",
              "</li>\n",
              "<li class=\"cat-item cat-item-107\"><a href=\"https://www.mh.com.fj/product-category/1-3-food/pasta/\">Pasta</a>\n",
              "</li>\n",
              "<li class=\"cat-item cat-item-73\"><a href=\"https://www.mh.com.fj/product-category/1-3-food/ready-to-eat/\">Ready To Eat</a>\n",
              "</li>\n",
              "<li class=\"cat-item cat-item-77\"><a href=\"https://www.mh.com.fj/product-category/1-3-food/rice/\">Rice</a>\n",
              "</li>\n",
              "<li class=\"cat-item cat-item-104\"><a href=\"https://www.mh.com.fj/product-category/1-3-food/salad-dressings/\">Salad Dressings</a>\n",
              "</li>\n",
              "<li class=\"cat-item cat-item-84\"><a href=\"https://www.mh.com.fj/product-category/1-3-food/salt/\">Salt</a>\n",
              "</li>\n",
              "<li class=\"cat-item cat-item-110\"><a href=\"https://www.mh.com.fj/product-category/1-3-food/sauce/\">Sauce</a>\n",
              "</li>\n",
              "<li class=\"cat-item cat-item-102\"><a href=\"https://www.mh.com.fj/product-category/1-3-food/seasoning/\">Seasoning</a>\n",
              "</li>\n",
              "<li class=\"cat-item cat-item-85\"><a href=\"https://www.mh.com.fj/product-category/1-3-food/snacks-and-savouries/\">Snacks And Savouries</a>\n",
              "</li>\n",
              "<li class=\"cat-item cat-item-103\"><a href=\"https://www.mh.com.fj/product-category/1-3-food/soups/\">Soups</a>\n",
              "</li>\n",
              "<li class=\"cat-item cat-item-115\"><a href=\"https://www.mh.com.fj/product-category/1-3-food/speciality-food/\">Speciality Food</a>\n",
              "</li>\n",
              "<li class=\"cat-item cat-item-90\"><a href=\"https://www.mh.com.fj/product-category/1-3-food/spices/\">Spices</a>\n",
              "</li>\n",
              "<li class=\"cat-item cat-item-97\"><a href=\"https://www.mh.com.fj/product-category/1-3-food/spread/\">Spread</a>\n",
              "</li>\n",
              "<li class=\"cat-item cat-item-89\"><a href=\"https://www.mh.com.fj/product-category/1-3-food/sugar/\">Sugar</a>\n",
              "</li>\n",
              "<li class=\"cat-item cat-item-106\"><a href=\"https://www.mh.com.fj/product-category/1-3-food/vinegar/\">Vinegar</a>\n",
              "</li>\n",
              "</ul>\n",
              "</li>\n",
              "<li class=\"cat-item cat-item-65\"><a href=\"https://www.mh.com.fj/product-category/1-4-beverage/\">1.4 Beverage</a>\n",
              "<ul class=\"children\">\n",
              "<li class=\"cat-item cat-item-68\"><a href=\"https://www.mh.com.fj/product-category/1-4-beverage/beverage-cold/\">Beverage – Cold</a>\n",
              "</li>\n",
              "<li class=\"cat-item cat-item-69\"><a href=\"https://www.mh.com.fj/product-category/1-4-beverage/beverage-hot-chocolate/\">Beverage Hot – Chocolate</a>\n",
              "</li>\n",
              "<li class=\"cat-item cat-item-71\"><a href=\"https://www.mh.com.fj/product-category/1-4-beverage/beverage-hot-coffee/\">Beverage Hot – Coffee</a>\n",
              "</li>\n",
              "<li class=\"cat-item cat-item-70\"><a href=\"https://www.mh.com.fj/product-category/1-4-beverage/beverage-hot-tea/\">Beverage Hot – Tea</a>\n",
              "</li>\n",
              "<li class=\"cat-item cat-item-66\"><a href=\"https://www.mh.com.fj/product-category/1-4-beverage/energy-drink/\">Energy Drink</a>\n",
              "</li>\n",
              "<li class=\"cat-item cat-item-67\"><a href=\"https://www.mh.com.fj/product-category/1-4-beverage/water/\">Water</a>\n",
              "</li>\n",
              "</ul>\n",
              "</li>\n",
              "<li class=\"cat-item cat-item-27\"><a href=\"https://www.mh.com.fj/product-category/1-5-frozen/\">1.5 Frozen</a>\n",
              "<ul class=\"children\">\n",
              "<li class=\"cat-item cat-item-34\"><a href=\"https://www.mh.com.fj/product-category/1-5-frozen/chicken/\">Chicken</a>\n",
              "</li>\n",
              "<li class=\"cat-item cat-item-36\"><a href=\"https://www.mh.com.fj/product-category/1-5-frozen/frozen/\">Frozen</a>\n",
              "</li>\n",
              "<li class=\"cat-item cat-item-28\"><a href=\"https://www.mh.com.fj/product-category/1-5-frozen/frozen-chicken/\">Frozen Chicken</a>\n",
              "</li>\n",
              "<li class=\"cat-item cat-item-37\"><a href=\"https://www.mh.com.fj/product-category/1-5-frozen/frozen-easy-meals/\">Frozen Easy Meals</a>\n",
              "</li>\n",
              "<li class=\"cat-item cat-item-38\"><a href=\"https://www.mh.com.fj/product-category/1-5-frozen/frozen-vegetables/\">Frozen Vegetables</a>\n",
              "</li>\n",
              "<li class=\"cat-item cat-item-39\"><a href=\"https://www.mh.com.fj/product-category/1-5-frozen/icecream-deserts/\">Icecream &amp; Deserts</a>\n",
              "</li>\n",
              "<li class=\"cat-item cat-item-35\"><a href=\"https://www.mh.com.fj/product-category/1-5-frozen/lamb/\">Lamb</a>\n",
              "</li>\n",
              "<li class=\"cat-item cat-item-40\"><a href=\"https://www.mh.com.fj/product-category/1-5-frozen/poultry/\">Poultry</a>\n",
              "</li>\n",
              "<li class=\"cat-item cat-item-41\"><a href=\"https://www.mh.com.fj/product-category/1-5-frozen/sausages/\">Sausages</a>\n",
              "</li>\n",
              "<li class=\"cat-item cat-item-33\"><a href=\"https://www.mh.com.fj/product-category/1-5-frozen/sea-food/\">Sea Food</a>\n",
              "</li>\n",
              "</ul>\n",
              "</li>\n",
              "<li class=\"cat-item cat-item-29\"><a href=\"https://www.mh.com.fj/product-category/1-6-fruits-vegetables/\">1.6 Fruits &amp; Vegetables</a>\n",
              "<ul class=\"children\">\n",
              "<li class=\"cat-item cat-item-32\"><a href=\"https://www.mh.com.fj/product-category/1-6-fruits-vegetables/imported-fruits/\">Imported Fruits</a>\n",
              "</li>\n",
              "<li class=\"cat-item cat-item-30\"><a href=\"https://www.mh.com.fj/product-category/1-6-fruits-vegetables/imported-vegetables/\">Imported Vegetables</a>\n",
              "</li>\n",
              "<li class=\"cat-item cat-item-31\"><a href=\"https://www.mh.com.fj/product-category/1-6-fruits-vegetables/imported-vegetables-prepack/\">Imported VegetableS-Prepack</a>\n",
              "</li>\n",
              "</ul>\n",
              "</li>\n",
              "<li class=\"cat-item cat-item-42\"><a href=\"https://www.mh.com.fj/product-category/1-7-dairy/\">1.7 Dairy</a>\n",
              "<ul class=\"children\">\n",
              "<li class=\"cat-item cat-item-44\"><a href=\"https://www.mh.com.fj/product-category/1-7-dairy/cheese/\">Cheese</a>\n",
              "</li>\n",
              "<li class=\"cat-item cat-item-43\"><a href=\"https://www.mh.com.fj/product-category/1-7-dairy/local-imported-cultured-products/\">Local &amp; Imported Cultured Products</a>\n",
              "</li>\n",
              "<li class=\"cat-item cat-item-45\"><a href=\"https://www.mh.com.fj/product-category/1-7-dairy/spreads/\">Spreads</a>\n",
              "</li>\n",
              "</ul>\n",
              "</li>\n",
              "<li class=\"cat-item cat-item-46\"><a href=\"https://www.mh.com.fj/product-category/1-8-non-food/\">1.8 Non-Food</a>\n",
              "<ul class=\"children\">\n",
              "<li class=\"cat-item cat-item-47\"><a href=\"https://www.mh.com.fj/product-category/1-8-non-food/adult-diaper/\">Adult Diaper</a>\n",
              "</li>\n",
              "<li class=\"cat-item cat-item-51\"><a href=\"https://www.mh.com.fj/product-category/1-8-non-food/baby-care/\">Baby Care</a>\n",
              "</li>\n",
              "<li class=\"cat-item cat-item-50\"><a href=\"https://www.mh.com.fj/product-category/1-8-non-food/bathing-soap/\">Bathing Soap</a>\n",
              "</li>\n",
              "<li class=\"cat-item cat-item-58\"><a href=\"https://www.mh.com.fj/product-category/1-8-non-food/cooking-requirements/\">Cooking Requirements</a>\n",
              "</li>\n",
              "<li class=\"cat-item cat-item-63\"><a href=\"https://www.mh.com.fj/product-category/1-8-non-food/dishwashing/\">Dishwashing</a>\n",
              "</li>\n",
              "<li class=\"cat-item cat-item-62\"><a href=\"https://www.mh.com.fj/product-category/1-8-non-food/disposable-products/\">Disposable Products</a>\n",
              "</li>\n",
              "<li class=\"cat-item cat-item-61\"><a href=\"https://www.mh.com.fj/product-category/1-8-non-food/electrical/\">Electrical</a>\n",
              "</li>\n",
              "<li class=\"cat-item cat-item-48\"><a href=\"https://www.mh.com.fj/product-category/1-8-non-food/epay/\">Epay</a>\n",
              "</li>\n",
              "<li class=\"cat-item cat-item-57\"><a href=\"https://www.mh.com.fj/product-category/1-8-non-food/fabric-care/\">Fabric Care</a>\n",
              "</li>\n",
              "<li class=\"cat-item cat-item-55\"><a href=\"https://www.mh.com.fj/product-category/1-8-non-food/hair-care/\">Hair Care</a>\n",
              "</li>\n",
              "<li class=\"cat-item cat-item-64\"><a href=\"https://www.mh.com.fj/product-category/1-8-non-food/home-kitchen-care/\">Home &amp; Kitchen Care</a>\n",
              "</li>\n",
              "<li class=\"cat-item cat-item-60\"><a href=\"https://www.mh.com.fj/product-category/1-8-non-food/lighters/\">Lighters</a>\n",
              "</li>\n",
              "<li class=\"cat-item cat-item-54\"><a href=\"https://www.mh.com.fj/product-category/1-8-non-food/oral-care/\">Oral Care</a>\n",
              "</li>\n",
              "<li class=\"cat-item cat-item-53\"><a href=\"https://www.mh.com.fj/product-category/1-8-non-food/personal-care/\">Personal Care</a>\n",
              "</li>\n",
              "<li class=\"cat-item cat-item-49\"><a href=\"https://www.mh.com.fj/product-category/1-8-non-food/pharmaceuticals/\">Pharmaceuticals</a>\n",
              "</li>\n",
              "<li class=\"cat-item cat-item-56\"><a href=\"https://www.mh.com.fj/product-category/1-8-non-food/pooja-requirements/\">Pooja Requirements</a>\n",
              "</li>\n",
              "<li class=\"cat-item cat-item-59\"><a href=\"https://www.mh.com.fj/product-category/1-8-non-food/repellants/\">Repellants</a>\n",
              "</li>\n",
              "<li class=\"cat-item cat-item-52\"><a href=\"https://www.mh.com.fj/product-category/1-8-non-food/sanitary-toilet-paper/\">Sanitary/toilet Paper</a>\n",
              "</li>\n",
              "</ul>\n",
              "</li>\n",
              "<li class=\"cat-item cat-item-129\"><a href=\"https://www.mh.com.fj/product-category/1-9-school-office/\">1.9 School &amp; Office</a>\n",
              "<ul class=\"children\">\n",
              "<li class=\"cat-item cat-item-130\"><a href=\"https://www.mh.com.fj/product-category/1-9-school-office/covers-and-tapes/\">Covers And Tapes</a>\n",
              "</li>\n",
              "<li class=\"cat-item cat-item-131\"><a href=\"https://www.mh.com.fj/product-category/1-9-school-office/pens-and-pencils/\">Pens And Pencils</a>\n",
              "</li>\n",
              "<li class=\"cat-item cat-item-132\"><a href=\"https://www.mh.com.fj/product-category/1-9-school-office/writing-postage-materials/\">Writing &amp; Postage Materials</a>\n",
              "</li>\n",
              "</ul>\n",
              "</li>\n",
              "<li class=\"cat-item cat-item-18\"><a href=\"https://www.mh.com.fj/product-category/2-0-lubes/\">2.0 Lubes</a>\n",
              "<ul class=\"children\">\n",
              "<li class=\"cat-item cat-item-19\"><a href=\"https://www.mh.com.fj/product-category/2-0-lubes/lubes/\">Lubes</a>\n",
              "</li>\n",
              "</ul>\n",
              "</li>\n",
              "</ul>"
            ]
          },
          "execution_count": 72,
          "metadata": {},
          "output_type": "execute_result"
        }
      ],
      "source": [
        "response.find(\"ul\", {\"class\":\"product-categories\"})"
      ]
    },
    {
      "cell_type": "code",
      "execution_count": null,
      "metadata": {
        "id": "gTtofgb-vXct"
      },
      "outputs": [],
      "source": [
        "def filter_non_substrings(strings):\n",
        "    # Initialize an empty list to store the result\n",
        "    result = []\n",
        "\n",
        "    # Loop through each string in the list\n",
        "    for string in strings:\n",
        "        # Assume the current string is not a substring of any other\n",
        "        is_substring = False\n",
        "\n",
        "        # Loop through each string in the list again for comparison\n",
        "        for other in strings:\n",
        "            # Skip the comparison if it's the same string\n",
        "            if string != other and string in other:\n",
        "                is_substring = True\n",
        "                break\n",
        "\n",
        "        # If the current string is not a substring of any other, add it to the result list\n",
        "        if not is_substring:\n",
        "            result.append(string)\n",
        "\n",
        "    return result\n"
      ]
    },
    {
      "cell_type": "code",
      "execution_count": null,
      "metadata": {
        "id": "xENoW_Y9weiM"
      },
      "outputs": [],
      "source": []
    }
  ],
  "metadata": {
    "colab": {
      "provenance": [],
      "toc_visible": true
    },
    "kernelspec": {
      "display_name": "Python 3",
      "name": "python3"
    },
    "language_info": {
      "codemirror_mode": {
        "name": "ipython",
        "version": 3
      },
      "file_extension": ".py",
      "mimetype": "text/x-python",
      "name": "python",
      "nbconvert_exporter": "python",
      "pygments_lexer": "ipython3",
      "version": "3.11.9"
    }
  },
  "nbformat": 4,
  "nbformat_minor": 0
}
